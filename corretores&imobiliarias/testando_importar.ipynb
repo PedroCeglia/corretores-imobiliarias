{
 "cells": [
  {
   "cell_type": "code",
   "execution_count": 1,
   "metadata": {},
   "outputs": [
    {
     "name": "stderr",
     "output_type": "stream",
     "text": [
      "c:\\Users\\cegli\\anaconda3\\envs\\teste-3.9\\lib\\site-packages\\torchvision\\io\\image.py:13: UserWarning: Failed to load image Python extension: '[WinError 127] Não foi possível encontrar o procedimento especificado'If you don't plan on using image functionality from `torchvision.io`, you can ignore this warning. Otherwise, there might be something wrong with your environment. Did you have `libjpeg` or `libpng` installed before building `torchvision` from source?\n",
      "  warn(\n"
     ]
    },
    {
     "ename": "ImportError",
     "evalue": "DLL load failed while importing cv2: Não foi possível encontrar o módulo especificado.",
     "output_type": "error",
     "traceback": [
      "\u001b[1;31m---------------------------------------------------------------------------\u001b[0m",
      "\u001b[1;31mImportError\u001b[0m                               Traceback (most recent call last)",
      "Cell \u001b[1;32mIn[1], line 2\u001b[0m\n\u001b[0;32m      1\u001b[0m \u001b[38;5;28;01mfrom\u001b[39;00m \u001b[38;5;21;01mSupport\u001b[39;00m\u001b[38;5;21;01m.\u001b[39;00m\u001b[38;5;21;01mGoogleSheets\u001b[39;00m\u001b[38;5;21;01m.\u001b[39;00m\u001b[38;5;21;01mgs_support\u001b[39;00m \u001b[38;5;28;01mimport\u001b[39;00m baixar_pagina_planilha, atualizar_pagina_planilha\n\u001b[1;32m----> 2\u001b[0m \u001b[38;5;28;01mfrom\u001b[39;00m \u001b[38;5;21;01mSupport\u001b[39;00m\u001b[38;5;21;01m.\u001b[39;00m\u001b[38;5;21;01mbuscar_empresas\u001b[39;00m \u001b[38;5;28;01mimport\u001b[39;00m buscar_todas_empresas_bairro_cnpjbiz, buscar_todas_empresas_bairro_linkana\n\u001b[0;32m      3\u001b[0m \u001b[38;5;28;01mfrom\u001b[39;00m \u001b[38;5;21;01mSupport\u001b[39;00m\u001b[38;5;21;01m.\u001b[39;00m\u001b[38;5;21;01mcreci_support\u001b[39;00m \u001b[38;5;28;01mimport\u001b[39;00m lista_bairros\n\u001b[0;32m      4\u001b[0m \u001b[38;5;28;01mfrom\u001b[39;00m \u001b[38;5;21;01mSupport\u001b[39;00m\u001b[38;5;21;01m.\u001b[39;00m\u001b[38;5;21;01mDataFrame\u001b[39;00m\u001b[38;5;21;01m.\u001b[39;00m\u001b[38;5;21;01mdataframe_support\u001b[39;00m \u001b[38;5;28;01mimport\u001b[39;00m filtrar_df_from_df\n",
      "File \u001b[1;32mc:\\Users\\cegli\\Documents\\Python\\Projetos\\corretores&imobiliarias\\Support\\buscar_empresas.py:3\u001b[0m\n\u001b[0;32m      1\u001b[0m \u001b[38;5;28;01mimport\u001b[39;00m \u001b[38;5;21;01mpandas\u001b[39;00m \u001b[38;5;28;01mas\u001b[39;00m \u001b[38;5;21;01mpd\u001b[39;00m\n\u001b[1;32m----> 3\u001b[0m \u001b[38;5;28;01mfrom\u001b[39;00m \u001b[38;5;21;01mSupport\u001b[39;00m\u001b[38;5;21;01m.\u001b[39;00m\u001b[38;5;21;01mlinkana_support\u001b[39;00m \u001b[38;5;28;01mimport\u001b[39;00m buscar_empresa_linkana \u001b[38;5;28;01mas\u001b[39;00m _buscar_empresa_linkana\n\u001b[0;32m      4\u001b[0m \u001b[38;5;28;01mfrom\u001b[39;00m \u001b[38;5;21;01mSupport\u001b[39;00m\u001b[38;5;21;01m.\u001b[39;00m\u001b[38;5;21;01mcnpjbiz_support\u001b[39;00m \u001b[38;5;28;01mimport\u001b[39;00m buscar_empresa_cnpjbiz \u001b[38;5;28;01mas\u001b[39;00m _buscar_empresa_cnpjbiz\n\u001b[0;32m      7\u001b[0m \u001b[38;5;28;01mdef\u001b[39;00m \u001b[38;5;21m_buscar_dados_empresas_linkana\u001b[39m(empresa):\n",
      "File \u001b[1;32mc:\\Users\\cegli\\Documents\\Python\\Projetos\\corretores&imobiliarias\\Support\\linkana_support.py:7\u001b[0m\n\u001b[0;32m      4\u001b[0m \u001b[38;5;28;01mfrom\u001b[39;00m \u001b[38;5;21;01mselenium\u001b[39;00m\u001b[38;5;21;01m.\u001b[39;00m\u001b[38;5;21;01mwebdriver\u001b[39;00m\u001b[38;5;21;01m.\u001b[39;00m\u001b[38;5;21;01mcommon\u001b[39;00m\u001b[38;5;21;01m.\u001b[39;00m\u001b[38;5;21;01mby\u001b[39;00m \u001b[38;5;28;01mimport\u001b[39;00m By\n\u001b[0;32m      5\u001b[0m \u001b[38;5;28;01mfrom\u001b[39;00m \u001b[38;5;21;01mselenium\u001b[39;00m\u001b[38;5;21;01m.\u001b[39;00m\u001b[38;5;21;01mwebdriver\u001b[39;00m\u001b[38;5;21;01m.\u001b[39;00m\u001b[38;5;21;01mcommon\u001b[39;00m\u001b[38;5;21;01m.\u001b[39;00m\u001b[38;5;21;01mkeys\u001b[39;00m \u001b[38;5;28;01mimport\u001b[39;00m Keys\n\u001b[1;32m----> 7\u001b[0m \u001b[38;5;28;01mfrom\u001b[39;00m \u001b[38;5;21;01mSupport\u001b[39;00m\u001b[38;5;21;01m.\u001b[39;00m\u001b[38;5;21;01mAutomacao\u001b[39;00m\u001b[38;5;21;01m.\u001b[39;00m\u001b[38;5;21;01mauto_support\u001b[39;00m \u001b[38;5;28;01mimport\u001b[39;00m iniciando_edge_selenium, recuperando_string_print\n\u001b[0;32m      8\u001b[0m \u001b[38;5;28;01mfrom\u001b[39;00m \u001b[38;5;21;01mSupport\u001b[39;00m\u001b[38;5;21;01m.\u001b[39;00m\u001b[38;5;21;01mcreci_support\u001b[39;00m \u001b[38;5;28;01mimport\u001b[39;00m verificar_cnpj_cresci\n\u001b[0;32m      9\u001b[0m \u001b[38;5;28;01mfrom\u001b[39;00m \u001b[38;5;21;01mSupport\u001b[39;00m\u001b[38;5;21;01m.\u001b[39;00m\u001b[38;5;21;01mFormat\u001b[39;00m\u001b[38;5;21;01m.\u001b[39;00m\u001b[38;5;21;01mformat_support\u001b[39;00m \u001b[38;5;28;01mimport\u001b[39;00m formatar_cnpj\n",
      "File \u001b[1;32mc:\\Users\\cegli\\Documents\\Python\\Projetos\\corretores&imobiliarias\\Support\\Automacao\\auto_support.py:1\u001b[0m\n\u001b[1;32m----> 1\u001b[0m \u001b[38;5;28;01mimport\u001b[39;00m \u001b[38;5;21;01measyocr\u001b[39;00m\n\u001b[0;32m      2\u001b[0m \u001b[38;5;28;01mimport\u001b[39;00m \u001b[38;5;21;01mlogging\u001b[39;00m\n\u001b[0;32m      3\u001b[0m logging\u001b[38;5;241m.\u001b[39mgetLogger(\u001b[38;5;124m'\u001b[39m\u001b[38;5;124measyocr\u001b[39m\u001b[38;5;124m'\u001b[39m)\u001b[38;5;241m.\u001b[39msetLevel(logging\u001b[38;5;241m.\u001b[39mERROR) \u001b[38;5;66;03m# Configura o nível de logging para suprimir os avisos da EasyOCR\u001b[39;00m\n",
      "File \u001b[1;32mc:\\Users\\cegli\\anaconda3\\envs\\teste-3.9\\lib\\site-packages\\easyocr\\__init__.py:1\u001b[0m\n\u001b[1;32m----> 1\u001b[0m \u001b[38;5;28;01mfrom\u001b[39;00m \u001b[38;5;21;01m.\u001b[39;00m\u001b[38;5;21;01measyocr\u001b[39;00m \u001b[38;5;28;01mimport\u001b[39;00m Reader\n\u001b[0;32m      3\u001b[0m __version__ \u001b[38;5;241m=\u001b[39m \u001b[38;5;124m'\u001b[39m\u001b[38;5;124m1.7.0\u001b[39m\u001b[38;5;124m'\u001b[39m\n",
      "File \u001b[1;32mc:\\Users\\cegli\\anaconda3\\envs\\teste-3.9\\lib\\site-packages\\easyocr\\easyocr.py:3\u001b[0m\n\u001b[0;32m      1\u001b[0m \u001b[38;5;66;03m# -*- coding: utf-8 -*-\u001b[39;00m\n\u001b[1;32m----> 3\u001b[0m \u001b[38;5;28;01mfrom\u001b[39;00m \u001b[38;5;21;01m.\u001b[39;00m\u001b[38;5;21;01mrecognition\u001b[39;00m \u001b[38;5;28;01mimport\u001b[39;00m get_recognizer, get_text\n\u001b[0;32m      4\u001b[0m \u001b[38;5;28;01mfrom\u001b[39;00m \u001b[38;5;21;01m.\u001b[39;00m\u001b[38;5;21;01mutils\u001b[39;00m \u001b[38;5;28;01mimport\u001b[39;00m group_text_box, get_image_list, calculate_md5, get_paragraph,\\\n\u001b[0;32m      5\u001b[0m                    download_and_unzip, printProgressBar, diff, reformat_input,\\\n\u001b[0;32m      6\u001b[0m                    make_rotated_img_list, set_result_with_confidence,\\\n\u001b[0;32m      7\u001b[0m                    reformat_input_batched, merge_to_free\n\u001b[0;32m      8\u001b[0m \u001b[38;5;28;01mfrom\u001b[39;00m \u001b[38;5;21;01m.\u001b[39;00m\u001b[38;5;21;01mconfig\u001b[39;00m \u001b[38;5;28;01mimport\u001b[39;00m \u001b[38;5;241m*\u001b[39m\n",
      "File \u001b[1;32mc:\\Users\\cegli\\anaconda3\\envs\\teste-3.9\\lib\\site-packages\\easyocr\\recognition.py:10\u001b[0m\n\u001b[0;32m      8\u001b[0m \u001b[38;5;28;01mfrom\u001b[39;00m \u001b[38;5;21;01mcollections\u001b[39;00m \u001b[38;5;28;01mimport\u001b[39;00m OrderedDict\n\u001b[0;32m      9\u001b[0m \u001b[38;5;28;01mimport\u001b[39;00m \u001b[38;5;21;01mimportlib\u001b[39;00m\n\u001b[1;32m---> 10\u001b[0m \u001b[38;5;28;01mfrom\u001b[39;00m \u001b[38;5;21;01m.\u001b[39;00m\u001b[38;5;21;01mutils\u001b[39;00m \u001b[38;5;28;01mimport\u001b[39;00m CTCLabelConverter\n\u001b[0;32m     11\u001b[0m \u001b[38;5;28;01mimport\u001b[39;00m \u001b[38;5;21;01mmath\u001b[39;00m\n\u001b[0;32m     13\u001b[0m \u001b[38;5;28;01mdef\u001b[39;00m \u001b[38;5;21mcustom_mean\u001b[39m(x):\n",
      "File \u001b[1;32mc:\\Users\\cegli\\anaconda3\\envs\\teste-3.9\\lib\\site-packages\\easyocr\\utils.py:7\u001b[0m\n\u001b[0;32m      5\u001b[0m \u001b[38;5;28;01mimport\u001b[39;00m \u001b[38;5;21;01mnumpy\u001b[39;00m \u001b[38;5;28;01mas\u001b[39;00m \u001b[38;5;21;01mnp\u001b[39;00m\n\u001b[0;32m      6\u001b[0m \u001b[38;5;28;01mimport\u001b[39;00m \u001b[38;5;21;01mmath\u001b[39;00m\n\u001b[1;32m----> 7\u001b[0m \u001b[38;5;28;01mimport\u001b[39;00m \u001b[38;5;21;01mcv2\u001b[39;00m\n\u001b[0;32m      8\u001b[0m \u001b[38;5;28;01mfrom\u001b[39;00m \u001b[38;5;21;01mPIL\u001b[39;00m \u001b[38;5;28;01mimport\u001b[39;00m Image, JpegImagePlugin\n\u001b[0;32m      9\u001b[0m \u001b[38;5;28;01mfrom\u001b[39;00m \u001b[38;5;21;01mscipy\u001b[39;00m \u001b[38;5;28;01mimport\u001b[39;00m ndimage\n",
      "\u001b[1;31mImportError\u001b[0m: DLL load failed while importing cv2: Não foi possível encontrar o módulo especificado."
     ]
    }
   ],
   "source": [
    "from Support.GoogleSheets.gs_support import baixar_pagina_planilha, atualizar_pagina_planilha\n",
    "from Support.buscar_empresas import buscar_todas_empresas_bairro_cnpjbiz, buscar_todas_empresas_bairro_linkana\n",
    "from Support.creci_support import lista_bairros\n",
    "from Support.DataFrame.dataframe_support import filtrar_df_from_df\n",
    "from Support.cnpjbiz_support import buscar_empresa_cnpjbiz\n",
    "import time\n",
    "import pandas as pd"
   ]
  },
  {
   "cell_type": "markdown",
   "metadata": {},
   "source": [
    "## Baixar Planilha de Todos os Bairros"
   ]
  },
  {
   "cell_type": "code",
   "execution_count": null,
   "metadata": {},
   "outputs": [],
   "source": [
    "bairros_todas_empresas = {}\n",
    "\n",
    "for bairro in lista_bairros:\n",
    "    time.sleep(2)\n",
    "    novo_df = baixar_pagina_planilha(\"Bairros PJ\", bairro)\n",
    "    bairros_todas_empresas.update({bairro:novo_df})"
   ]
  },
  {
   "cell_type": "markdown",
   "metadata": {},
   "source": [
    "## Baixar Planilha de Empresas Não Encontradas"
   ]
  },
  {
   "cell_type": "code",
   "execution_count": null,
   "metadata": {},
   "outputs": [],
   "source": [
    "bairros_empresas_nao_encontradas = {}\n",
    "\n",
    "for bairro in lista_bairros:\n",
    "    time.sleep(2)\n",
    "    novo_df_incompletos = baixar_pagina_planilha(\"Empresas Negativas\", bairro)\n",
    "    bairros_empresas_nao_encontradas.update({bairro:novo_df_incompletos})"
   ]
  },
  {
   "cell_type": "markdown",
   "metadata": {},
   "source": [
    "## Baixar Planilha das Empresas Encontradas"
   ]
  },
  {
   "cell_type": "code",
   "execution_count": null,
   "metadata": {},
   "outputs": [],
   "source": [
    "bairros_empresas_encontradas = {}\n",
    "\n",
    "for bairro in lista_bairros:\n",
    "    time.sleep(2)\n",
    "    novo_df_completos = baixar_pagina_planilha(\"Bairros Completos\", bairro)\n",
    "    bairros_empresas_encontradas.update({bairro:novo_df_completos})"
   ]
  },
  {
   "cell_type": "markdown",
   "metadata": {},
   "source": [
    "## Filtrar Empresas que iremos Procurar"
   ]
  },
  {
   "cell_type": "code",
   "execution_count": null,
   "metadata": {},
   "outputs": [],
   "source": [
    "bairros_empreas_a_procurar = {}\n",
    "\n",
    "for bairro, tb in bairros_todas_empresas.items():\n",
    "    print(bairro)\n",
    "    empresas_a_procurar = pd.DataFrame()\n",
    "    if not bairros_empresas_encontradas[bairro].empty:\n",
    "        # Filtro as empresas ja encontradas\n",
    "        empresas_a_procurar = filtrar_df_from_df(tb, bairros_empresas_encontradas[bairro]) if not tb.empty else tb\n",
    "        if not bairros_empresas_nao_encontradas[bairro].empty:\n",
    "            # Filtro as empresas ja procuradas porem não encontradas\n",
    "            empresas_a_procurar = filtrar_df_from_df(empresas_a_procurar, bairros_empresas_nao_encontradas[bairro]) if not empresas_a_procurar.empty else empresas_a_procurar\n",
    "        print(\n",
    "            bairro,\n",
    "            len(tb),\n",
    "            len(bairros_empresas_encontradas[bairro]),\n",
    "            len(empresas_a_procurar),\n",
    "            len(bairros_empresas_encontradas[bairro])\n",
    "        )\n",
    "    else:\n",
    "        empresas_a_procurar = tb\n",
    "\n",
    "    if not empresas_a_procurar.empty and len(empresas_a_procurar) <= 10:\n",
    "        bairros_empreas_a_procurar.update({bairro: empresas_a_procurar})\n"
   ]
  },
  {
   "cell_type": "markdown",
   "metadata": {},
   "source": [
    "## Buscar Empresas"
   ]
  },
  {
   "cell_type": "code",
   "execution_count": null,
   "metadata": {},
   "outputs": [],
   "source": [
    "empresa = buscar_empresa_cnpjbiz(\"THIAGO DA COSTA SANTOS CORRETAGEM DE IMOVEIS LTDA\", 9730)"
   ]
  },
  {
   "cell_type": "code",
   "execution_count": null,
   "metadata": {},
   "outputs": [],
   "source": [
    "from selenium import webdriver\n",
    "from selenium.webdriver.edge.service import Service\n",
    "from selenium.webdriver.edge.options import Options\n",
    "\n",
    "# Configurar as opções do Edge\n",
    "options = Options()\n",
    "options.use_chromium = True\n",
    "\n",
    "# Especificar o caminho completo do WebDriver e iniciar o serviço\n",
    "edge_driver_path = r'C:/Users/cegli/Documents/Python/WEBDRIVER_EDGEx64/msedgedriver.exe'\n",
    "service = Service(edge_driver_path)\n",
    "\n",
    "# Iniciar o driver do Edge com o serviço e as opções configuradas\n",
    "driver = webdriver.Edge(service=service, options=options)\n",
    "\n",
    "# Navegar para o site desejado\n",
    "driver.get(\"https://cnpj.biz/procura/THIAGO%20DA%20COSTA%20SANTOS%20CORRETAGEM%20DE%20IMOVEIS%20LTDA\")\n",
    "\n",
    "# Fechar o navegador ao terminar\n",
    "driver.quit()\n"
   ]
  },
  {
   "cell_type": "code",
   "execution_count": null,
   "metadata": {},
   "outputs": [],
   "source": [
    "print(len(list(bairros_empreas_a_procurar.items())[5:10]))\n",
    "for bairro, tb in list(bairros_empreas_a_procurar.items())[5:10]:\n",
    "    try:\n",
    "        completos_bairro_cnpjbiz, incompletos_bairro_cnpjbiz = buscar_todas_empresas_bairro_cnpjbiz(tb)\n",
    "        #completos_bairro_linkana = filtrar_df_from_df(completos_bairro_linkana, completos_bairro_cnpjbiz)\n",
    "        completos_bairros = completos_bairro_cnpjbiz\n",
    "        #completos_bairros = pd.concat([completos_bairro_cnpjbiz, completos_bairro_linkana], ignore_index=True)\n",
    "        display(incompletos_bairro_cnpjbiz)\n",
    "        #atualizar_pagina_planilha(\"Bairros Completos\", bairro, completos_bairros)\n",
    "        #atualizar_pagina_planilha(\"Empresas Negativas\", bairro, incompletos_bairro_cnpjbiz)\n",
    "    except Exception as e:\n",
    "        print(e, e.args)\n",
    "        break\n"
   ]
  },
  {
   "cell_type": "code",
   "execution_count": null,
   "metadata": {},
   "outputs": [],
   "source": [
    "def merge_dataframes(dictionary:dict):\n",
    "    '''\n",
    "    Junta todos os df denro de um dict\n",
    "    '''\n",
    "    merged_df = pd.concat(dictionary.values(), ignore_index=True)\n",
    "    \n",
    "    return merged_df\n",
    "\n",
    "display(len(bairros_empresas_encontradas))\n",
    "\n"
   ]
  },
  {
   "cell_type": "code",
   "execution_count": null,
   "metadata": {},
   "outputs": [],
   "source": [
    "df_geral = merge_dataframes(bairros_empreas_a_procurar)\n",
    "pesquisados = pd.concat([completos_bairro_cnpjbiz, incompletos_bairro_cnpjbiz], ignore_index=True)\n",
    "df_geral = filtrar_df_from_df(df_geral, pesquisados)\n",
    "display(df_geral)\n",
    "#display(len(completos_bairro_cnpjbiz), len(incompletos_bairro_cnpjbiz), len(df_geral), len(df_geral) - (len(completos_bairro_cnpjbiz) + len(incompletos_bairro_cnpjbiz)))"
   ]
  },
  {
   "cell_type": "code",
   "execution_count": 2,
   "metadata": {},
   "outputs": [
    {
     "ename": "ImportError",
     "evalue": "DLL load failed while importing cv2: Não foi possível encontrar o módulo especificado.",
     "output_type": "error",
     "traceback": [
      "\u001b[1;31m---------------------------------------------------------------------------\u001b[0m",
      "\u001b[1;31mImportError\u001b[0m                               Traceback (most recent call last)",
      "Cell \u001b[1;32mIn[2], line 6\u001b[0m\n\u001b[0;32m      1\u001b[0m \u001b[38;5;66;03m#completos_bairro_cnpjbiz, incompletos_bairro_cnpjbiz = buscar_todas_empresas_bairro_cnpjbiz(df_geral)\u001b[39;00m\n\u001b[0;32m      2\u001b[0m \u001b[38;5;66;03m#completos_bairro_linkana = filtrar_df_from_df(completos_bairro_linkana, completos_bairro_cnpjbiz)\u001b[39;00m\n\u001b[0;32m      3\u001b[0m \u001b[38;5;66;03m#completos_bairros = pd.concat([completos_bairro_cnpjbiz, completos_bairro_linkana], ignore_index=True)\u001b[39;00m\n\u001b[0;32m      4\u001b[0m \u001b[38;5;66;03m#atualizar_pagina_planilha(\"Bairros Completos\", bairro, completos_bairro_cnpjbiz)\u001b[39;00m\n\u001b[0;32m      5\u001b[0m \u001b[38;5;66;03m#atualizar_pagina_planilha(\"Empresas Negativas CNPJ BIZ\", bairro, incompletos_bairro_linkana)\u001b[39;00m\n\u001b[1;32m----> 6\u001b[0m \u001b[38;5;28;01mimport\u001b[39;00m \u001b[38;5;21;01mcv2\u001b[39;00m\n",
      "\u001b[1;31mImportError\u001b[0m: DLL load failed while importing cv2: Não foi possível encontrar o módulo especificado."
     ]
    }
   ],
   "source": [
    "#completos_bairro_cnpjbiz, incompletos_bairro_cnpjbiz = buscar_todas_empresas_bairro_cnpjbiz(df_geral)\n",
    "#completos_bairro_linkana = filtrar_df_from_df(completos_bairro_linkana, completos_bairro_cnpjbiz)\n",
    "#completos_bairros = pd.concat([completos_bairro_cnpjbiz, completos_bairro_linkana], ignore_index=True)\n",
    "#atualizar_pagina_planilha(\"Bairros Completos\", bairro, completos_bairro_cnpjbiz)\n",
    "#atualizar_pagina_planilha(\"Empresas Negativas CNPJ BIZ\", bairro, incompletos_bairro_linkana)\n",
    "import cv2"
   ]
  },
  {
   "cell_type": "code",
   "execution_count": null,
   "metadata": {},
   "outputs": [],
   "source": [
    "def testando_2(dict_compl:dict, df_misturado:pd.DataFrame):\n",
    "    new_dict = {}\n",
    "    for bairro, tb in dict_compl.items():\n",
    "        df_bairro = df_misturado[df_misturado[\"Bairro\"] == bairro]\n",
    "        concat_df = pd.concat([df_bairro, tb], ignore_index=True)\n",
    "        new_dict.update({bairro:concat_df})\n",
    "    return new_dict\n",
    "\n",
    "dict_completo_2 = testando_2(bairros_empresas_encontradas, completos_bairro_cnpjbiz)\n",
    "#display(len(incompletos_bairro_cnpjbiz) + len(completos_bairro_cnpjbiz))"
   ]
  },
  {
   "cell_type": "code",
   "execution_count": null,
   "metadata": {},
   "outputs": [],
   "source": [
    "#for bairro, tb in dict_completo_2.items():\n",
    "for bairro, tb in bairros_empresas_nao_encontradas.items():\n",
    "    print(bairro, tb.empty)\n",
    "\n",
    "\n"
   ]
  }
 ],
 "metadata": {
  "kernelspec": {
   "display_name": "pedroceglia",
   "language": "python",
   "name": "python3"
  },
  "language_info": {
   "codemirror_mode": {
    "name": "ipython",
    "version": 3
   },
   "file_extension": ".py",
   "mimetype": "text/x-python",
   "name": "python",
   "nbconvert_exporter": "python",
   "pygments_lexer": "ipython3",
   "version": "3.9.19"
  }
 },
 "nbformat": 4,
 "nbformat_minor": 2
}
