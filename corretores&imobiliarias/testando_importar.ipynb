{
 "cells": [
  {
   "cell_type": "code",
   "execution_count": 1,
   "metadata": {},
   "outputs": [
    {
     "name": "stderr",
     "output_type": "stream",
     "text": [
      "c:\\Users\\cegli\\anaconda3\\envs\\corretora\\Lib\\site-packages\\torchvision\\io\\image.py:13: UserWarning: Failed to load image Python extension: '[WinError 127] Não foi possível encontrar o procedimento especificado'If you don't plan on using image functionality from `torchvision.io`, you can ignore this warning. Otherwise, there might be something wrong with your environment. Did you have `libjpeg` or `libpng` installed before building `torchvision` from source?\n",
      "  warn(\n"
     ]
    }
   ],
   "source": [
    "from Support.GoogleSheets.gs_support import baixar_pagina_planilha, atualizar_pagina_planilha\n",
    "from Support.buscar_empresas import buscar_todas_empresas_bairro_cnpjbiz, buscar_todas_empresas_bairro_linkana\n",
    "from Support.creci_support import lista_bairros\n",
    "from Support.DataFrame.dataframe_support import filtrar_df_from_df\n",
    "from Support.cnpjbiz_support import buscar_empresa_cnpjbiz\n",
    "import time\n",
    "import pandas as pd"
   ]
  },
  {
   "cell_type": "markdown",
   "metadata": {},
   "source": [
    "## Baixar Planilha de Todos os Bairros"
   ]
  },
  {
   "cell_type": "code",
   "execution_count": 2,
   "metadata": {},
   "outputs": [],
   "source": [
    "df_todas_empresas = pd.DataFrame()\n",
    "\n",
    "for bairro in lista_bairros:\n",
    "    time.sleep(3)\n",
    "    novo_df = baixar_pagina_planilha(\"Bairros PJ\", bairro)\n",
    "    novo_df[\"Bairro\"] = bairro\n",
    "    df_todas_empresas = pd.concat([df_todas_empresas, novo_df], ignore_index=True)"
   ]
  },
  {
   "cell_type": "markdown",
   "metadata": {},
   "source": [
    "## Baixar Planilha de Empresas Não Encontradas"
   ]
  },
  {
   "cell_type": "code",
   "execution_count": 3,
   "metadata": {},
   "outputs": [],
   "source": [
    "df_empresas_nao_encontradas = pd.DataFrame()\n",
    "\n",
    "for bairro in lista_bairros:\n",
    "    time.sleep(3)\n",
    "    novo_df_incompletos = baixar_pagina_planilha(\"Empresas Negativas\", bairro)\n",
    "    novo_df_incompletos[\"Bairro\"] = bairro\n",
    "    df_empresas_nao_encontradas = pd.concat([df_empresas_nao_encontradas, novo_df_incompletos], ignore_index=True)"
   ]
  },
  {
   "cell_type": "markdown",
   "metadata": {},
   "source": [
    "## Baixar Planilha das Empresas Encontradas"
   ]
  },
  {
   "cell_type": "code",
   "execution_count": 4,
   "metadata": {},
   "outputs": [],
   "source": [
    "df_empresas_encontradas = pd.DataFrame()\n",
    "\n",
    "for bairro in lista_bairros:\n",
    "    time.sleep(3)\n",
    "    novo_df_completos = baixar_pagina_planilha(\"Bairros Completos\", bairro)\n",
    "    novo_df_completos[\"Bairro\"] = bairro\n",
    "    df_empresas_encontradas = pd.concat([df_empresas_encontradas, novo_df_completos], ignore_index=True)\n",
    "    "
   ]
  },
  {
   "cell_type": "markdown",
   "metadata": {},
   "source": [
    "## Filtrar Empresas que iremos Procurar"
   ]
  },
  {
   "cell_type": "code",
   "execution_count": 7,
   "metadata": {},
   "outputs": [
    {
     "name": "stdout",
     "output_type": "stream",
     "text": [
      "Empresas já encontradas:  196\n",
      "Empresas não encontradas:  1\n",
      "Empresas a procurar 1168\n"
     ]
    }
   ],
   "source": [
    "df_empresas_a_procurar = pd.DataFrame()\n",
    "\n",
    "# Filtrando as empresas ja encontradas\n",
    "df_empresas_a_procurar = filtrar_df_from_df(df_todas_empresas, df_empresas_encontradas)\n",
    "print(\"Empresas já encontradas: \", len(df_empresas_encontradas))\n",
    "\n",
    "# Filtrando as empresas ja procuradas porem não encontradas\n",
    "df_empresas_a_procurar = filtrar_df_from_df(df_empresas_a_procurar, df_empresas_nao_encontradas)\n",
    "print(\"Empresas não encontradas: \", len(df_empresas_nao_encontradas))\n",
    "\n",
    "print(\"Empresas a procurar: \", len(df_empresas_a_procurar))\n",
    "\n",
    "# Filtrar por quantidade de empresas por bairro\n",
    "#if not empresas_a_procurar.empty and len(empresas_a_procurar) <= 10:\n",
    "#    df_empresas_a_procurar.update({bairro: empresas_a_procurar})\n"
   ]
  },
  {
   "cell_type": "markdown",
   "metadata": {},
   "source": [
    "## Buscar Empresas"
   ]
  },
  {
   "cell_type": "code",
   "execution_count": null,
   "metadata": {},
   "outputs": [],
   "source": [
    "empresa = buscar_empresa_cnpjbiz(\"THIAGO DA COSTA SANTOS CORRETAGEM DE IMOVEIS LTDA\", 9730)"
   ]
  },
  {
   "cell_type": "code",
   "execution_count": 8,
   "metadata": {},
   "outputs": [
    {
     "name": "stderr",
     "output_type": "stream",
     "text": [
      "Neither CUDA nor MPS are available - defaulting to CPU. Note: This module is much faster with a GPU.\n"
     ]
    },
    {
     "name": "stdout",
     "output_type": "stream",
     "text": [
      "Deu ruim\n",
      "Recuperou {'error': 'Nenhuma empresa encontrada'}\n",
      "Não Achou:  CW MAGALHAES EMPREEND. IMOBIL. LTDA ME\n",
      "DAdos Novos {'error': 'Nenhuma empresa encontrada'}\n",
      "{'error': 'Nenhuma empresa encontrada'}\n",
      "DEu erro:  3\n"
     ]
    },
    {
     "name": "stderr",
     "output_type": "stream",
     "text": [
      "c:\\Users\\cegli\\Documents\\Python\\Projetos\\corretores&imobiliarias\\Support\\buscar_empresas.py:111: FutureWarning: The behavior of DataFrame concatenation with empty or all-NA entries is deprecated. In a future version, this will no longer exclude empty or all-NA columns when determining the result dtypes. To retain the old behavior, exclude the relevant entries before the concat operation.\n",
      "  incompletos_df = pd.concat([incompletos_df, empresa_completa], ignore_index=True)\n",
      "Neither CUDA nor MPS are available - defaulting to CPU. Note: This module is much faster with a GPU.\n"
     ]
    },
    {
     "name": "stdout",
     "output_type": "stream",
     "text": [
      "Deu ruim\n",
      "Recuperou {'error': 'Nenhuma empresa encontrada'}\n",
      "Não Achou:  GERALDO ENEAS IMOBILIARIA S/C LTDA\n",
      "DAdos Novos {'error': 'Nenhuma empresa encontrada'}\n",
      "{'error': 'Nenhuma empresa encontrada'}\n",
      "DEu erro:  5\n"
     ]
    },
    {
     "name": "stderr",
     "output_type": "stream",
     "text": [
      "Neither CUDA nor MPS are available - defaulting to CPU. Note: This module is much faster with a GPU.\n",
      "Neither CUDA nor MPS are available - defaulting to CPU. Note: This module is much faster with a GPU.\n"
     ]
    },
    {
     "name": "stdout",
     "output_type": "stream",
     "text": [
      "OIOI\n"
     ]
    },
    {
     "name": "stderr",
     "output_type": "stream",
     "text": [
      "Neither CUDA nor MPS are available - defaulting to CPU. Note: This module is much faster with a GPU.\n"
     ]
    },
    {
     "name": "stdout",
     "output_type": "stream",
     "text": [
      "OIOI\n"
     ]
    },
    {
     "name": "stderr",
     "output_type": "stream",
     "text": [
      "Neither CUDA nor MPS are available - defaulting to CPU. Note: This module is much faster with a GPU.\n"
     ]
    },
    {
     "name": "stdout",
     "output_type": "stream",
     "text": [
      "OIOI\n"
     ]
    },
    {
     "name": "stderr",
     "output_type": "stream",
     "text": [
      "Neither CUDA nor MPS are available - defaulting to CPU. Note: This module is much faster with a GPU.\n"
     ]
    },
    {
     "name": "stdout",
     "output_type": "stream",
     "text": [
      "OIOI\n",
      "É no rio\n"
     ]
    },
    {
     "name": "stderr",
     "output_type": "stream",
     "text": [
      "Neither CUDA nor MPS are available - defaulting to CPU. Note: This module is much faster with a GPU.\n"
     ]
    },
    {
     "name": "stdout",
     "output_type": "stream",
     "text": [
      "28.649.382/0001-06\n"
     ]
    },
    {
     "name": "stderr",
     "output_type": "stream",
     "text": [
      "Neither CUDA nor MPS are available - defaulting to CPU. Note: This module is much faster with a GPU.\n",
      "Neither CUDA nor MPS are available - defaulting to CPU. Note: This module is much faster with a GPU.\n"
     ]
    },
    {
     "name": "stdout",
     "output_type": "stream",
     "text": [
      " Jv Campos Imoveis Jv Campos Imoveis LTDA Rua Divisoria 10 Salas 301 e 302 Bento Ribeiro Rio de Janeiro RJ 21331-250 \n"
     ]
    },
    {
     "name": "stderr",
     "output_type": "stream",
     "text": [
      "Neither CUDA nor MPS are available - defaulting to CPU. Note: This module is much faster with a GPU.\n"
     ]
    },
    {
     "name": "stdout",
     "output_type": "stream",
     "text": [
      "Nome:  J. V. CAMPOS IMÓVEIS LTDA - ME\n",
      "Recuperou {'Contatos': '', 'Socios': ' Saulo Luiz Campos Guimaraes - Vera Regina Ramos Campos - ', 'Endereço': ' Jv Campos Imoveis Jv Campos Imoveis LTDA Rua Divisoria 10 Salas 301 e 302 Bento Ribeiro Rio de Janeiro RJ 21331-250 ', 'CNPJ': '28.649.382/0001-06', 'Nome Fantasia': 'Jv Campos Imoveis'}\n",
      "DAdos Novos {'Contatos': '', 'Socios': ' Saulo Luiz Campos Guimaraes - Vera Regina Ramos Campos - ', 'Endereço': ' Jv Campos Imoveis Jv Campos Imoveis LTDA Rua Divisoria 10 Salas 301 e 302 Bento Ribeiro Rio de Janeiro RJ 21331-250 ', 'CNPJ': '28.649.382/0001-06', 'Nome Fantasia': 'Jv Campos Imoveis'}\n",
      "{'Contatos': '', 'Socios': ' Saulo Luiz Campos Guimaraes - Vera Regina Ramos Campos - ', 'Endereço': ' Jv Campos Imoveis Jv Campos Imoveis LTDA Rua Divisoria 10 Salas 301 e 302 Bento Ribeiro Rio de Janeiro RJ 21331-250 ', 'CNPJ': '28.649.382/0001-06', 'Nome Fantasia': 'Jv Campos Imoveis'}\n"
     ]
    },
    {
     "name": "stderr",
     "output_type": "stream",
     "text": [
      "c:\\Users\\cegli\\Documents\\Python\\Projetos\\corretores&imobiliarias\\Support\\buscar_empresas.py:109: FutureWarning: The behavior of DataFrame concatenation with empty or all-NA entries is deprecated. In a future version, this will no longer exclude empty or all-NA columns when determining the result dtypes. To retain the old behavior, exclude the relevant entries before the concat operation.\n",
      "  completos_df = pd.concat([completos_df, empresa_completa], ignore_index=True)\n",
      "Neither CUDA nor MPS are available - defaulting to CPU. Note: This module is much faster with a GPU.\n",
      "Neither CUDA nor MPS are available - defaulting to CPU. Note: This module is much faster with a GPU.\n"
     ]
    },
    {
     "name": "stdout",
     "output_type": "stream",
     "text": [
      "OIOI\n"
     ]
    },
    {
     "name": "stderr",
     "output_type": "stream",
     "text": [
      "Neither CUDA nor MPS are available - defaulting to CPU. Note: This module is much faster with a GPU.\n"
     ]
    },
    {
     "name": "stdout",
     "output_type": "stream",
     "text": [
      "OIOI\n"
     ]
    },
    {
     "name": "stderr",
     "output_type": "stream",
     "text": [
      "Neither CUDA nor MPS are available - defaulting to CPU. Note: This module is much faster with a GPU.\n"
     ]
    },
    {
     "name": "stdout",
     "output_type": "stream",
     "text": [
      "OIOI\n"
     ]
    },
    {
     "name": "stderr",
     "output_type": "stream",
     "text": [
      "Neither CUDA nor MPS are available - defaulting to CPU. Note: This module is much faster with a GPU.\n"
     ]
    },
    {
     "name": "stdout",
     "output_type": "stream",
     "text": [
      "OIOI\n"
     ]
    },
    {
     "name": "stderr",
     "output_type": "stream",
     "text": [
      "Neither CUDA nor MPS are available - defaulting to CPU. Note: This module is much faster with a GPU.\n"
     ]
    },
    {
     "name": "stdout",
     "output_type": "stream",
     "text": [
      "OIOI\n"
     ]
    },
    {
     "name": "stderr",
     "output_type": "stream",
     "text": [
      "Neither CUDA nor MPS are available - defaulting to CPU. Note: This module is much faster with a GPU.\n"
     ]
    },
    {
     "name": "stdout",
     "output_type": "stream",
     "text": [
      "OIOI\n"
     ]
    },
    {
     "name": "stderr",
     "output_type": "stream",
     "text": [
      "Neither CUDA nor MPS are available - defaulting to CPU. Note: This module is much faster with a GPU.\n"
     ]
    },
    {
     "name": "stdout",
     "output_type": "stream",
     "text": [
      "OIOI\n"
     ]
    },
    {
     "name": "stderr",
     "output_type": "stream",
     "text": [
      "Neither CUDA nor MPS are available - defaulting to CPU. Note: This module is much faster with a GPU.\n"
     ]
    },
    {
     "name": "stdout",
     "output_type": "stream",
     "text": [
      "OIOI\n"
     ]
    },
    {
     "name": "stderr",
     "output_type": "stream",
     "text": [
      "Neither CUDA nor MPS are available - defaulting to CPU. Note: This module is much faster with a GPU.\n"
     ]
    },
    {
     "name": "stdout",
     "output_type": "stream",
     "text": [
      "OIOI\n"
     ]
    },
    {
     "name": "stderr",
     "output_type": "stream",
     "text": [
      "Neither CUDA nor MPS are available - defaulting to CPU. Note: This module is much faster with a GPU.\n"
     ]
    },
    {
     "name": "stdout",
     "output_type": "stream",
     "text": [
      "OIOI\n",
      "Recuperou False\n",
      "argument of type 'bool' is not iterable\n"
     ]
    },
    {
     "name": "stderr",
     "output_type": "stream",
     "text": [
      "Neither CUDA nor MPS are available - defaulting to CPU. Note: This module is much faster with a GPU.\n",
      "Neither CUDA nor MPS are available - defaulting to CPU. Note: This module is much faster with a GPU.\n"
     ]
    },
    {
     "name": "stdout",
     "output_type": "stream",
     "text": [
      "OIOI\n"
     ]
    },
    {
     "name": "stderr",
     "output_type": "stream",
     "text": [
      "Neither CUDA nor MPS are available - defaulting to CPU. Note: This module is much faster with a GPU.\n"
     ]
    },
    {
     "name": "stdout",
     "output_type": "stream",
     "text": [
      "OIOI\n",
      "É no rio\n"
     ]
    },
    {
     "name": "stderr",
     "output_type": "stream",
     "text": [
      "Neither CUDA nor MPS are available - defaulting to CPU. Note: This module is much faster with a GPU.\n"
     ]
    },
    {
     "name": "stdout",
     "output_type": "stream",
     "text": [
      "iz\n"
     ]
    },
    {
     "name": "stderr",
     "output_type": "stream",
     "text": [
      "Neither CUDA nor MPS are available - defaulting to CPU. Note: This module is much faster with a GPU.\n"
     ]
    },
    {
     "name": "stdout",
     "output_type": "stream",
     "text": [
      "OIOI\n",
      "É no rio\n"
     ]
    },
    {
     "name": "stderr",
     "output_type": "stream",
     "text": [
      "Neither CUDA nor MPS are available - defaulting to CPU. Note: This module is much faster with a GPU.\n"
     ]
    },
    {
     "name": "stdout",
     "output_type": "stream",
     "text": [
      "42.407.361/0001-05\n"
     ]
    },
    {
     "name": "stderr",
     "output_type": "stream",
     "text": [
      "Neither CUDA nor MPS are available - defaulting to CPU. Note: This module is much faster with a GPU.\n"
     ]
    },
    {
     "name": "stdout",
     "output_type": "stream",
     "text": [
      "OIOI\n",
      "É no rio\n"
     ]
    },
    {
     "name": "stderr",
     "output_type": "stream",
     "text": [
      "Neither CUDA nor MPS are available - defaulting to CPU. Note: This module is much faster with a GPU.\n"
     ]
    },
    {
     "name": "stdout",
     "output_type": "stream",
     "text": [
      "iz\n"
     ]
    },
    {
     "name": "stderr",
     "output_type": "stream",
     "text": [
      "Neither CUDA nor MPS are available - defaulting to CPU. Note: This module is much faster with a GPU.\n"
     ]
    },
    {
     "name": "stdout",
     "output_type": "stream",
     "text": [
      "OIOI\n",
      "É no rio\n"
     ]
    },
    {
     "name": "stderr",
     "output_type": "stream",
     "text": [
      "Neither CUDA nor MPS are available - defaulting to CPU. Note: This module is much faster with a GPU.\n"
     ]
    },
    {
     "name": "stdout",
     "output_type": "stream",
     "text": [
      "42.407.361/0001-05\n"
     ]
    },
    {
     "name": "stderr",
     "output_type": "stream",
     "text": [
      "Neither CUDA nor MPS are available - defaulting to CPU. Note: This module is much faster with a GPU.\n"
     ]
    },
    {
     "name": "stdout",
     "output_type": "stream",
     "text": [
      "OIOI\n"
     ]
    },
    {
     "name": "stderr",
     "output_type": "stream",
     "text": [
      "Neither CUDA nor MPS are available - defaulting to CPU. Note: This module is much faster with a GPU.\n"
     ]
    },
    {
     "name": "stdout",
     "output_type": "stream",
     "text": [
      "OIOI\n"
     ]
    },
    {
     "name": "stderr",
     "output_type": "stream",
     "text": [
      "Neither CUDA nor MPS are available - defaulting to CPU. Note: This module is much faster with a GPU.\n"
     ]
    },
    {
     "name": "stdout",
     "output_type": "stream",
     "text": [
      "OIOI\n"
     ]
    },
    {
     "name": "stderr",
     "output_type": "stream",
     "text": [
      "Neither CUDA nor MPS are available - defaulting to CPU. Note: This module is much faster with a GPU.\n"
     ]
    },
    {
     "name": "stdout",
     "output_type": "stream",
     "text": [
      "OIOI\n"
     ]
    },
    {
     "name": "stderr",
     "output_type": "stream",
     "text": [
      "Neither CUDA nor MPS are available - defaulting to CPU. Note: This module is much faster with a GPU.\n"
     ]
    },
    {
     "name": "stdout",
     "output_type": "stream",
     "text": [
      "OIOI\n",
      "Recuperou False\n",
      "argument of type 'bool' is not iterable\n"
     ]
    },
    {
     "name": "stderr",
     "output_type": "stream",
     "text": [
      "Neither CUDA nor MPS are available - defaulting to CPU. Note: This module is much faster with a GPU.\n"
     ]
    },
    {
     "name": "stdout",
     "output_type": "stream",
     "text": [
      "Deu ruim\n",
      "Recuperou {'error': 'Nenhuma empresa encontrada'}\n",
      "Não Achou:  IMOVEL LIVRE CONS. E ADM. IMOBIL. S/S LTDA ME\n",
      "DAdos Novos {'error': 'Nenhuma empresa encontrada'}\n",
      "{'error': 'Nenhuma empresa encontrada'}\n",
      "DEu erro:  10\n"
     ]
    },
    {
     "name": "stderr",
     "output_type": "stream",
     "text": [
      "Neither CUDA nor MPS are available - defaulting to CPU. Note: This module is much faster with a GPU.\n"
     ]
    },
    {
     "name": "stdout",
     "output_type": "stream",
     "text": [
      "Deu ruim\n",
      "Recuperou {'error': 'Nenhuma empresa encontrada'}\n",
      "Não Achou:  M.A.REZENDE IMOBILIARIA EIRELI\n",
      "DAdos Novos {'error': 'Nenhuma empresa encontrada'}\n",
      "{'error': 'Nenhuma empresa encontrada'}\n",
      "DEu erro:  12\n"
     ]
    },
    {
     "name": "stderr",
     "output_type": "stream",
     "text": [
      "Neither CUDA nor MPS are available - defaulting to CPU. Note: This module is much faster with a GPU.\n"
     ]
    },
    {
     "name": "stdout",
     "output_type": "stream",
     "text": [
      "Deu ruim\n",
      "Recuperou {'error': 'Nenhuma empresa encontrada'}\n",
      "Não Achou:  ALCEU LIMA REPRESENT. E CORRETAGENS LTDA\n",
      "DAdos Novos {'error': 'Nenhuma empresa encontrada'}\n",
      "{'error': 'Nenhuma empresa encontrada'}\n",
      "DEu erro:  14\n"
     ]
    },
    {
     "name": "stderr",
     "output_type": "stream",
     "text": [
      "Neither CUDA nor MPS are available - defaulting to CPU. Note: This module is much faster with a GPU.\n"
     ]
    },
    {
     "name": "stdout",
     "output_type": "stream",
     "text": [
      "Deu ruim\n",
      "Recuperou {'error': 'Nenhuma empresa encontrada'}\n",
      "Não Achou:  C. PINA IMOBILIARIA LTDA-ME\n",
      "DAdos Novos {'error': 'Nenhuma empresa encontrada'}\n",
      "{'error': 'Nenhuma empresa encontrada'}\n",
      "DEu erro:  15\n"
     ]
    },
    {
     "name": "stderr",
     "output_type": "stream",
     "text": [
      "Neither CUDA nor MPS are available - defaulting to CPU. Note: This module is much faster with a GPU.\n"
     ]
    },
    {
     "name": "stdout",
     "output_type": "stream",
     "text": [
      "Deu ruim\n",
      "Recuperou {'error': 'Nenhuma empresa encontrada'}\n",
      "Não Achou:  PREDILAR DE CASCADURA ASSESS.IMOBIL.LTDA\n",
      "DAdos Novos {'error': 'Nenhuma empresa encontrada'}\n",
      "{'error': 'Nenhuma empresa encontrada'}\n",
      "DEu erro:  20\n"
     ]
    },
    {
     "name": "stderr",
     "output_type": "stream",
     "text": [
      "Neither CUDA nor MPS are available - defaulting to CPU. Note: This module is much faster with a GPU.\n"
     ]
    },
    {
     "name": "stdout",
     "output_type": "stream",
     "text": [
      "Deu ruim\n",
      "Recuperou {'error': 'Nenhuma empresa encontrada'}\n",
      "Não Achou:  PROVISAO 23 IMOBILIARIA LTDA-ME\n",
      "DAdos Novos {'error': 'Nenhuma empresa encontrada'}\n",
      "{'error': 'Nenhuma empresa encontrada'}\n",
      "DEu erro:  21\n"
     ]
    },
    {
     "name": "stderr",
     "output_type": "stream",
     "text": [
      "Neither CUDA nor MPS are available - defaulting to CPU. Note: This module is much faster with a GPU.\n"
     ]
    },
    {
     "name": "stdout",
     "output_type": "stream",
     "text": [
      "Deu ruim\n",
      "Recuperou {'error': 'Nenhuma empresa encontrada'}\n",
      "Não Achou:  SOBEA-SERGIO ODILON BOECHAT EMPREEND. ADM. - EIRELI - ME\n",
      "DAdos Novos {'error': 'Nenhuma empresa encontrada'}\n",
      "{'error': 'Nenhuma empresa encontrada'}\n",
      "DEu erro:  22\n"
     ]
    },
    {
     "name": "stderr",
     "output_type": "stream",
     "text": [
      "Neither CUDA nor MPS are available - defaulting to CPU. Note: This module is much faster with a GPU.\n",
      "Neither CUDA nor MPS are available - defaulting to CPU. Note: This module is much faster with a GPU.\n"
     ]
    },
    {
     "name": "stdout",
     "output_type": "stream",
     "text": [
      "OIOI\n",
      "É no rio\n"
     ]
    },
    {
     "name": "stderr",
     "output_type": "stream",
     "text": [
      "Neither CUDA nor MPS are available - defaulting to CPU. Note: This module is much faster with a GPU.\n"
     ]
    },
    {
     "name": "stdout",
     "output_type": "stream",
     "text": [
      "47.928.485/0001-41\n"
     ]
    },
    {
     "name": "stderr",
     "output_type": "stream",
     "text": [
      "Neither CUDA nor MPS are available - defaulting to CPU. Note: This module is much faster with a GPU.\n",
      "Neither CUDA nor MPS are available - defaulting to CPU. Note: This module is much faster with a GPU.\n"
     ]
    },
    {
     "name": "stdout",
     "output_type": "stream",
     "text": [
      " Ma+S Imob Thiago da Costa Santos Corretagem de Imoveis LTDA Rua Jurubaiba 00051 Honorio Gurgel Rio de Janeiro RJ 21555-170 \n"
     ]
    },
    {
     "name": "stderr",
     "output_type": "stream",
     "text": [
      "Neither CUDA nor MPS are available - defaulting to CPU. Note: This module is much faster with a GPU.\n"
     ]
    },
    {
     "name": "stdout",
     "output_type": "stream",
     "text": [
      "Nome:  THIAGO DA COSTA SANTOS CORRETAGEM DE IMOVEIS LTDA\n",
      "Recuperou {'Contatos': ' meucnpj@contabilizei com.br 41 99686-9828 ', 'Socios': ' Thiago da Costa Santos - ', 'Endereço': ' Ma+S Imob Thiago da Costa Santos Corretagem de Imoveis LTDA Rua Jurubaiba 00051 Honorio Gurgel Rio de Janeiro RJ 21555-170 ', 'CNPJ': '47.928.485/0001-41', 'Nome Fantasia': 'Ma+S Imob'}\n",
      "DAdos Novos {'Contatos': ' meucnpj@contabilizei com.br 41 99686-9828 ', 'Socios': ' Thiago da Costa Santos - ', 'Endereço': ' Ma+S Imob Thiago da Costa Santos Corretagem de Imoveis LTDA Rua Jurubaiba 00051 Honorio Gurgel Rio de Janeiro RJ 21555-170 ', 'CNPJ': '47.928.485/0001-41', 'Nome Fantasia': 'Ma+S Imob'}\n",
      "{'Contatos': ' meucnpj@contabilizei com.br 41 99686-9828 ', 'Socios': ' Thiago da Costa Santos - ', 'Endereço': ' Ma+S Imob Thiago da Costa Santos Corretagem de Imoveis LTDA Rua Jurubaiba 00051 Honorio Gurgel Rio de Janeiro RJ 21555-170 ', 'CNPJ': '47.928.485/0001-41', 'Nome Fantasia': 'Ma+S Imob'}\n"
     ]
    },
    {
     "name": "stderr",
     "output_type": "stream",
     "text": [
      "Neither CUDA nor MPS are available - defaulting to CPU. Note: This module is much faster with a GPU.\n",
      "Neither CUDA nor MPS are available - defaulting to CPU. Note: This module is much faster with a GPU.\n"
     ]
    },
    {
     "name": "stdout",
     "output_type": "stream",
     "text": [
      "OIOI\n"
     ]
    },
    {
     "name": "stderr",
     "output_type": "stream",
     "text": [
      "Neither CUDA nor MPS are available - defaulting to CPU. Note: This module is much faster with a GPU.\n"
     ]
    },
    {
     "name": "stdout",
     "output_type": "stream",
     "text": [
      "OIOI\n"
     ]
    },
    {
     "name": "stderr",
     "output_type": "stream",
     "text": [
      "Neither CUDA nor MPS are available - defaulting to CPU. Note: This module is much faster with a GPU.\n"
     ]
    },
    {
     "name": "stdout",
     "output_type": "stream",
     "text": [
      "OIOI\n",
      "É no rio\n"
     ]
    },
    {
     "name": "stderr",
     "output_type": "stream",
     "text": [
      "Neither CUDA nor MPS are available - defaulting to CPU. Note: This module is much faster with a GPU.\n"
     ]
    },
    {
     "name": "stdout",
     "output_type": "stream",
     "text": [
      "5\n"
     ]
    },
    {
     "name": "stderr",
     "output_type": "stream",
     "text": [
      "Neither CUDA nor MPS are available - defaulting to CPU. Note: This module is much faster with a GPU.\n"
     ]
    },
    {
     "name": "stdout",
     "output_type": "stream",
     "text": [
      "OIOI\n",
      "É no rio\n"
     ]
    },
    {
     "name": "stderr",
     "output_type": "stream",
     "text": [
      "Neither CUDA nor MPS are available - defaulting to CPU. Note: This module is much faster with a GPU.\n"
     ]
    },
    {
     "name": "stdout",
     "output_type": "stream",
     "text": [
      "00.529.498/0001-84\n"
     ]
    },
    {
     "name": "stderr",
     "output_type": "stream",
     "text": [
      "Neither CUDA nor MPS are available - defaulting to CPU. Note: This module is much faster with a GPU.\n"
     ]
    },
    {
     "name": "stdout",
     "output_type": "stream",
     "text": [
      "OIOI\n"
     ]
    },
    {
     "name": "stderr",
     "output_type": "stream",
     "text": [
      "Neither CUDA nor MPS are available - defaulting to CPU. Note: This module is much faster with a GPU.\n"
     ]
    },
    {
     "name": "stdout",
     "output_type": "stream",
     "text": [
      "OIOI\n",
      "É no rio\n"
     ]
    },
    {
     "name": "stderr",
     "output_type": "stream",
     "text": [
      "Neither CUDA nor MPS are available - defaulting to CPU. Note: This module is much faster with a GPU.\n"
     ]
    },
    {
     "name": "stdout",
     "output_type": "stream",
     "text": [
      "&\n"
     ]
    },
    {
     "name": "stderr",
     "output_type": "stream",
     "text": [
      "Neither CUDA nor MPS are available - defaulting to CPU. Note: This module is much faster with a GPU.\n"
     ]
    },
    {
     "name": "stdout",
     "output_type": "stream",
     "text": [
      "OIOI\n"
     ]
    },
    {
     "name": "stderr",
     "output_type": "stream",
     "text": [
      "Neither CUDA nor MPS are available - defaulting to CPU. Note: This module is much faster with a GPU.\n"
     ]
    },
    {
     "name": "stdout",
     "output_type": "stream",
     "text": [
      "OIOI\n"
     ]
    },
    {
     "name": "stderr",
     "output_type": "stream",
     "text": [
      "Neither CUDA nor MPS are available - defaulting to CPU. Note: This module is much faster with a GPU.\n"
     ]
    },
    {
     "name": "stdout",
     "output_type": "stream",
     "text": [
      "OIOI\n"
     ]
    },
    {
     "name": "stderr",
     "output_type": "stream",
     "text": [
      "Neither CUDA nor MPS are available - defaulting to CPU. Note: This module is much faster with a GPU.\n"
     ]
    },
    {
     "name": "stdout",
     "output_type": "stream",
     "text": [
      "OIOI\n",
      "Recuperou False\n",
      "argument of type 'bool' is not iterable\n",
      "PyAutoGUI fail-safe triggered from mouse moving to a corner of the screen. To disable this fail-safe, set pyautogui.FAILSAFE to False. DISABLING FAIL-SAFE IS NOT RECOMMENDED.\n",
      "PyAutoGUI fail-safe triggered from mouse moving to a corner of the screen. To disable this fail-safe, set pyautogui.FAILSAFE to False. DISABLING FAIL-SAFE IS NOT RECOMMENDED.\n",
      "PyAutoGUI fail-safe triggered from mouse moving to a corner of the screen. To disable this fail-safe, set pyautogui.FAILSAFE to False. DISABLING FAIL-SAFE IS NOT RECOMMENDED.\n",
      "PyAutoGUI fail-safe triggered from mouse moving to a corner of the screen. To disable this fail-safe, set pyautogui.FAILSAFE to False. DISABLING FAIL-SAFE IS NOT RECOMMENDED.\n",
      "PyAutoGUI fail-safe triggered from mouse moving to a corner of the screen. To disable this fail-safe, set pyautogui.FAILSAFE to False. DISABLING FAIL-SAFE IS NOT RECOMMENDED.\n",
      "PyAutoGUI fail-safe triggered from mouse moving to a corner of the screen. To disable this fail-safe, set pyautogui.FAILSAFE to False. DISABLING FAIL-SAFE IS NOT RECOMMENDED.\n"
     ]
    }
   ],
   "source": [
    "\n",
    "try:\n",
    "    completos_bairro_cnpjbiz, incompletos_bairro_cnpjbiz = buscar_todas_empresas_bairro_cnpjbiz(df_empresas_a_procurar[:20])\n",
    "    \n",
    "    # Adicionar ao df com as empresas concluidas do respectivo bairro\n",
    "    df_empresas_encontradas = pd.concat([df_empresas_encontradas, completos_bairro_cnpjbiz], ignore_index=True)\n",
    "    atualizar_pagina_planilha(\"Bairros Completos\", \"TODOS\", df_empresas_encontradas)\n",
    "\n",
    "    # Adicionar ao df com as empresas não encontradas do respectivo bairro\n",
    "    df_empresas_nao_encontradas = pd.concat([df_empresas_nao_encontradas, incompletos_bairro_cnpjbiz], ignore_index=True)\n",
    "    atualizar_pagina_planilha(\"Empresas Negativas\", \"TODOS\", df_empresas_nao_encontradas)\n",
    "except Exception as e:\n",
    "    print(e, e.args)\n"
   ]
  },
  {
   "cell_type": "code",
   "execution_count": null,
   "metadata": {},
   "outputs": [],
   "source": [
    "def merge_dataframes(dictionary:dict):\n",
    "    '''\n",
    "    Junta todos os df denro de um dict\n",
    "    '''\n",
    "    merged_df = pd.concat(dictionary.values(), ignore_index=True)\n",
    "    \n",
    "    return merged_df\n",
    "\n",
    "display(len(df_empresas_encontradas))\n",
    "\n"
   ]
  },
  {
   "cell_type": "code",
   "execution_count": null,
   "metadata": {},
   "outputs": [],
   "source": [
    "df_geral = merge_dataframes(df_empresas_a_procurar)\n",
    "pesquisados = pd.concat([completos_bairro_cnpjbiz, incompletos_bairro_cnpjbiz], ignore_index=True)\n",
    "df_geral = filtrar_df_from_df(df_geral, pesquisados)\n",
    "display(df_geral)\n",
    "#display(len(completos_bairro_cnpjbiz), len(incompletos_bairro_cnpjbiz), len(df_geral), len(df_geral) - (len(completos_bairro_cnpjbiz) + len(incompletos_bairro_cnpjbiz)))"
   ]
  },
  {
   "cell_type": "code",
   "execution_count": null,
   "metadata": {},
   "outputs": [],
   "source": [
    "#completos_bairro_cnpjbiz, incompletos_bairro_cnpjbiz = buscar_todas_empresas_bairro_cnpjbiz(df_geral)\n",
    "#completos_bairro_linkana = filtrar_df_from_df(completos_bairro_linkana, completos_bairro_cnpjbiz)\n",
    "#completos_bairros = pd.concat([completos_bairro_cnpjbiz, completos_bairro_linkana], ignore_index=True)\n",
    "#atualizar_pagina_planilha(\"Bairros Completos\", bairro, completos_bairro_cnpjbiz)\n",
    "#atualizar_pagina_planilha(\"Empresas Negativas CNPJ BIZ\", bairro, incompletos_bairro_linkana)"
   ]
  },
  {
   "cell_type": "code",
   "execution_count": null,
   "metadata": {},
   "outputs": [],
   "source": [
    "def testando_2(dict_compl:dict, df_misturado:pd.DataFrame):\n",
    "    new_dict = {}\n",
    "    for bairro, tb in dict_compl.items():\n",
    "        df_bairro = df_misturado[df_misturado[\"Bairro\"] == bairro]\n",
    "        concat_df = pd.concat([df_bairro, tb], ignore_index=True)\n",
    "        new_dict.update({bairro:concat_df})\n",
    "    return new_dict\n",
    "\n",
    "dict_completo_2 = testando_2(df_empresas_encontradas, completos_bairro_cnpjbiz)\n",
    "#display(len(incompletos_bairro_cnpjbiz) + len(completos_bairro_cnpjbiz))"
   ]
  },
  {
   "cell_type": "code",
   "execution_count": 9,
   "metadata": {},
   "outputs": [
    {
     "data": {
      "text/html": [
       "<div>\n",
       "<style scoped>\n",
       "    .dataframe tbody tr th:only-of-type {\n",
       "        vertical-align: middle;\n",
       "    }\n",
       "\n",
       "    .dataframe tbody tr th {\n",
       "        vertical-align: top;\n",
       "    }\n",
       "\n",
       "    .dataframe thead th {\n",
       "        text-align: right;\n",
       "    }\n",
       "</style>\n",
       "<table border=\"1\" class=\"dataframe\">\n",
       "  <thead>\n",
       "    <tr style=\"text-align: right;\">\n",
       "      <th></th>\n",
       "      <th>Inscrição</th>\n",
       "      <th>Identificação</th>\n",
       "      <th>CNPJ</th>\n",
       "      <th>Nome Fantasia</th>\n",
       "      <th>Situação</th>\n",
       "      <th>Certidão de Regularidade</th>\n",
       "      <th>Contato</th>\n",
       "      <th>Natureza</th>\n",
       "      <th>Bairro</th>\n",
       "      <th>Contatos</th>\n",
       "      <th>Socios</th>\n",
       "      <th>Endereço</th>\n",
       "    </tr>\n",
       "  </thead>\n",
       "  <tbody>\n",
       "    <tr>\n",
       "      <th>0</th>\n",
       "      <td>3027.0</td>\n",
       "      <td>J. V. CAMPOS IMÓVEIS LTDA - ME</td>\n",
       "      <td>28.649.382/0001-06</td>\n",
       "      <td>Jv Campos Imoveis</td>\n",
       "      <td>ATIVO</td>\n",
       "      <td>REGULAR</td>\n",
       "      <td>(21) 2464-9788</td>\n",
       "      <td>PJ P</td>\n",
       "      <td>Bento Ribeiro</td>\n",
       "      <td></td>\n",
       "      <td>Saulo Luiz Campos Guimaraes - Vera Regina Ram...</td>\n",
       "      <td>Jv Campos Imoveis Jv Campos Imoveis LTDA Rua ...</td>\n",
       "    </tr>\n",
       "    <tr>\n",
       "      <th>1</th>\n",
       "      <td>9730.0</td>\n",
       "      <td>THIAGO DA COSTA SANTOS CORRETAGEM DE IMOVEIS LTDA</td>\n",
       "      <td>47.928.485/0001-41</td>\n",
       "      <td>Ma+S Imob</td>\n",
       "      <td>ATIVO</td>\n",
       "      <td>INDISPONÍVEL</td>\n",
       "      <td></td>\n",
       "      <td>PJ P</td>\n",
       "      <td>Honório Gurgel</td>\n",
       "      <td>meucnpj@contabilizei com.br 41 99686-9828</td>\n",
       "      <td>Thiago da Costa Santos -</td>\n",
       "      <td>Ma+S Imob Thiago da Costa Santos Corretagem d...</td>\n",
       "    </tr>\n",
       "  </tbody>\n",
       "</table>\n",
       "</div>"
      ],
      "text/plain": [
       "   Inscrição                                      Identificação  \\\n",
       "0     3027.0                     J. V. CAMPOS IMÓVEIS LTDA - ME   \n",
       "1     9730.0  THIAGO DA COSTA SANTOS CORRETAGEM DE IMOVEIS LTDA   \n",
       "\n",
       "                 CNPJ      Nome Fantasia Situação Certidão de Regularidade  \\\n",
       "0  28.649.382/0001-06  Jv Campos Imoveis    ATIVO                  REGULAR   \n",
       "1  47.928.485/0001-41          Ma+S Imob    ATIVO             INDISPONÍVEL   \n",
       "\n",
       "          Contato Natureza          Bairro  \\\n",
       "0  (21) 2464-9788     PJ P   Bento Ribeiro   \n",
       "1                     PJ P  Honório Gurgel   \n",
       "\n",
       "                                      Contatos  \\\n",
       "0                                                \n",
       "1   meucnpj@contabilizei com.br 41 99686-9828    \n",
       "\n",
       "                                              Socios  \\\n",
       "0   Saulo Luiz Campos Guimaraes - Vera Regina Ram...   \n",
       "1                          Thiago da Costa Santos -    \n",
       "\n",
       "                                            Endereço  \n",
       "0   Jv Campos Imoveis Jv Campos Imoveis LTDA Rua ...  \n",
       "1   Ma+S Imob Thiago da Costa Santos Corretagem d...  "
      ]
     },
     "execution_count": 9,
     "metadata": {},
     "output_type": "execute_result"
    }
   ],
   "source": [
    "completos_bairro_cnpjbiz"
   ]
  }
 ],
 "metadata": {
  "kernelspec": {
   "display_name": "pedroceglia",
   "language": "python",
   "name": "python3"
  },
  "language_info": {
   "codemirror_mode": {
    "name": "ipython",
    "version": 3
   },
   "file_extension": ".py",
   "mimetype": "text/x-python",
   "name": "python",
   "nbconvert_exporter": "python",
   "pygments_lexer": "ipython3",
   "version": "3.11.9"
  }
 },
 "nbformat": 4,
 "nbformat_minor": 2
}
