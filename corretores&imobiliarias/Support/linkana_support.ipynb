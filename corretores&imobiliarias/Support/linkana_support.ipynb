{
 "cells": [
  {
   "cell_type": "code",
   "execution_count": 1,
   "metadata": {},
   "outputs": [],
   "source": [
    "import time\n",
    "import pyautogui\n",
    "from selenium import webdriver\n",
    "from selenium.webdriver.common.by import By\n",
    "from selenium.webdriver.common.action_chains import ActionChains\n",
    "from selenium.webdriver.common.keys import Keys\n",
    "from io import StringIO "
   ]
  },
  {
   "cell_type": "code",
   "execution_count": 3,
   "metadata": {},
   "outputs": [],
   "source": [
    "from Automacao.auto_support import iniciando_edge_selenium, recuperando_string_print\n",
    "from creci_support import verificar_cnpj_cresci\n",
    "from Format.format_support import formatar_cnpj"
   ]
  },
  {
   "cell_type": "code",
   "execution_count": 16,
   "metadata": {},
   "outputs": [],
   "source": [
    "URL_LINKANA = \"https://cnpj.linkana.com/\""
   ]
  },
  {
   "cell_type": "code",
   "execution_count": 17,
   "metadata": {},
   "outputs": [],
   "source": [
    "def pesquisar_empresa_nome_linkana(nome_empresa, driver):\n",
    "    campo_nome = driver.find_element(By.ID, \"q\")\n",
    "    campo_nome.send_keys(nome_empresa)\n",
    "    campo_nome.send_keys(Keys.RETURN)"
   ]
  },
  {
   "cell_type": "code",
   "execution_count": 18,
   "metadata": {},
   "outputs": [],
   "source": [
    "def verificar_existe_empresa_linkana():\n",
    "    texto = recuperando_string_print(313, 529, 500, 70)\n",
    "    return not \"Nenhum resultado encontrado\" in texto"
   ]
  },
  {
   "cell_type": "code",
   "execution_count": 19,
   "metadata": {},
   "outputs": [],
   "source": [
    "def verifica_empresa_no_rj_linkana():\n",
    "    texto = recuperando_string_print(1119, 621, 100, 70)\n",
    "    return \"RJ\" in texto"
   ]
  },
  {
   "cell_type": "code",
   "execution_count": 20,
   "metadata": {},
   "outputs": [],
   "source": [
    "def recuperando_nome_fantasia_linkana(driver:webdriver.Edge):\n",
    "    lista = driver.find_elements(By.TAG_NAME, \"ul\")[0].text\n",
    "    nome_fantasia = lista.split(\"\\nNome fantasia\\n\")[1].split(\"\\nSituação cadastral\\n\")[0]\n",
    "    return nome_fantasia"
   ]
  },
  {
   "cell_type": "code",
   "execution_count": 21,
   "metadata": {},
   "outputs": [],
   "source": [
    "def recuperando_contatos_linkana(driver:webdriver.Edge):\n",
    "    lista = driver.find_elements(By.TAG_NAME, \"ul\")[0].text\n",
    "    email = lista.split(\"\\nE-mail\\n\")[1].split(\"\\nTelefone\\n\")[0]\n",
    "    telefone = \"\"\n",
    "    try:\n",
    "        telefone = lista.split(\"\\nTelefone\\n\")[1]\n",
    "    except:\n",
    "        pass\n",
    "    \n",
    "    contato = f\"{email}, {telefone}\"\n",
    "    return contato"
   ]
  },
  {
   "cell_type": "code",
   "execution_count": 22,
   "metadata": {},
   "outputs": [],
   "source": [
    "def recuperando_socios_linkana(driver:webdriver.Edge):\n",
    "    lista = driver.find_elements(By.TAG_NAME, \"ul\")[1].text.split(\"\\n\")\n",
    "    socios = \"\"\n",
    "    for idx, item in enumerate(lista):\n",
    "        if idx % 2 == 0:\n",
    "            socios += f\" {item} -\"\n",
    "    return socios"
   ]
  },
  {
   "cell_type": "code",
   "execution_count": 23,
   "metadata": {},
   "outputs": [],
   "source": [
    "def recuperando_endereco_linkana(driver:webdriver.Edge):\n",
    "    lista = driver.find_elements(By.TAG_NAME, \"ul\")[3].text.split(\"\\n\")\n",
    "    endereco = \"\"\n",
    "    for idx, item in enumerate(lista):\n",
    "        if idx % 2 != 0:\n",
    "            endereco += f\" {item} -\"\n",
    "    return endereco"
   ]
  },
  {
   "cell_type": "code",
   "execution_count": 24,
   "metadata": {},
   "outputs": [],
   "source": [
    "def buscar_empresa_linkana(nome_empresa, inscricao_empresa):\n",
    "    driver = iniciando_edge_selenium(URL_LINKANA)\n",
    "    \n",
    "    pesquisar_empresa_nome_linkana(nome_empresa, driver)\n",
    "\n",
    "    existe_empresa = verificar_existe_empresa_linkana()\n",
    "    if existe_empresa:\n",
    "        empresa_uf_rj = verifica_empresa_no_rj_linkana()\n",
    "        if empresa_uf_rj:\n",
    "            cnpj = recuperando_string_print(337, 584, 250, 60).split(\" \")[1]\n",
    "            cnpj_valido = verificar_cnpj_cresci(cnpj, inscricao_empresa)\n",
    "            if cnpj_valido:\n",
    "                cnpj = formatar_cnpj(cnpj)\n",
    "                pyautogui.click(337,584)\n",
    "                time.sleep(3)\n",
    "                nome_fantasia = recuperando_nome_fantasia_linkana(driver)\n",
    "                contatos = recuperando_contatos_linkana(driver)\n",
    "                socios = recuperando_socios_linkana(driver)\n",
    "                enderecos = recuperando_endereco_linkana(driver)\n",
    "                driver.quit()    \n",
    "                return {\"Contatos\":contatos, \"Socios\": socios, \"Endereço\": enderecos, \"CNPJ\":cnpj, \"Nome Fantasia\":nome_fantasia}    \n",
    "    \n",
    "\n",
    "    driver.quit()    \n",
    "    return False\n",
    "\n",
    "#buscar_empresa_linkana(\"2F IMOBILIARIA LTDA\", \"10591\")"
   ]
  },
  {
   "cell_type": "code",
   "execution_count": 25,
   "metadata": {},
   "outputs": [],
   "source": [
    "def teste_2(nome_empresa):\n",
    "    driver = iniciando_edge_selenium(URL_LINKANA)\n",
    "    \n",
    "    pesquisar_empresa_nome_linkana(nome_empresa, driver)\n",
    "\n",
    "    existe_empresa = verificar_existe_empresa_linkana()\n",
    "    if existe_empresa:\n",
    "        empresa_uf_rj = verifica_empresa_no_rj_linkana()\n",
    "        if empresa_uf_rj:\n",
    "            cnpj = recuperando_string_print(337, 584, 250, 60).split(\" \")[1]\n",
    "            pyautogui.click(337,584)\n",
    "            time.sleep(3)\n",
    "            contatos = recuperando_contatos_linkana(driver)\n",
    "            socios = recuperando_socios_linkana(driver)\n",
    "            enderecos = recuperando_endereco_linkana(driver)\n",
    "            driver.quit()    \n",
    "            return {\"Contatos\":contatos, \"Socios\": socios, \"Endereço\": enderecos}    "
   ]
  }
 ],
 "metadata": {
  "kernelspec": {
   "display_name": "pedroceglia",
   "language": "python",
   "name": "python3"
  },
  "language_info": {
   "codemirror_mode": {
    "name": "ipython",
    "version": 3
   },
   "file_extension": ".py",
   "mimetype": "text/x-python",
   "name": "python",
   "nbconvert_exporter": "python",
   "pygments_lexer": "ipython3",
   "version": "3.11.8"
  }
 },
 "nbformat": 4,
 "nbformat_minor": 2
}
