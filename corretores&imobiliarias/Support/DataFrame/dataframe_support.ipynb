{
 "cells": [
  {
   "cell_type": "code",
   "execution_count": 1,
   "metadata": {},
   "outputs": [],
   "source": [
    "import pandas as pd"
   ]
  },
  {
   "cell_type": "code",
   "execution_count": 2,
   "metadata": {},
   "outputs": [],
   "source": [
    "def editar_campos_empresa(dict_bairros_edit):\n",
    "    for bairro, tb in dict_bairros_edit.items():\n",
    "        try:\n",
    "            tb.drop(columns=['Unnamed: 5'], inplace=True)\n",
    "        except KeyError:\n",
    "            pass\n",
    "        \n",
    "        for index, linha in tb.iterrows():\n",
    "            nome = linha[\"Identificação\"]\n",
    "            tb.at[index, \"Bairro\"] = bairro\n",
    "            \n",
    "            if \" PJ \" in nome:\n",
    "                novo_nome = nome.replace(\" PJ P\", \"\").replace(\" PJ \", \"\")\n",
    "                tb.at[index, \"Identificação\"] = novo_nome\n",
    "                tb.at[index, \"Natureza\"] = \"PJ P\"\n",
    "            elif \" PF \" in nome:\n",
    "                novo_nome = nome.replace(\" PF P\", \"\").replace(\" PF \", \"\")\n",
    "                tb.at[index, \"Identificação\"] = novo_nome\n",
    "                tb.at[index,\"Natureza\"] = \"PF P\"\n",
    "        print(\"Bairro:\", bairro)\n"
   ]
  },
  {
   "cell_type": "code",
   "execution_count": 3,
   "metadata": {},
   "outputs": [],
   "source": [
    "def preencher_nan_com_vazio(df:pd.DataFrame):\n",
    "    # Iterar sobre todas as células do DataFrame\n",
    "    for coluna in df.columns:\n",
    "        for indice, valor in df[coluna].items():\n",
    "            if pd.isna(valor):  # Verificar se o valor é NaN\n",
    "                df.at[indice, coluna] = \"\"  # Substituir NaN por uma string vazia\n",
    "    return df"
   ]
  },
  {
   "cell_type": "code",
   "execution_count": 4,
   "metadata": {},
   "outputs": [],
   "source": [
    "def filter_empresas_ativas_regulares(bairros):\n",
    "    novo_dict = {}\n",
    "    for bairro_nome, bairro_tabela in bairros.items():\n",
    "        print(bairro_nome)\n",
    "        if not bairro_tabela.empty:\n",
    "            nova_tabela = bairro_tabela.loc[bairro_tabela[\"Situação\"] == \"ATIVO\"]\n",
    "            nova_tabela = nova_tabela.loc[bairro_tabela[\"Certidão de Regularidade\"] == \"REGULAR\"]\n",
    "            novo_dict.update({bairro_nome:nova_tabela})\n",
    "        else:\n",
    "            print(\"Vazio\",bairro_nome)\n",
    "    return novo_dict.copy()"
   ]
  },
  {
   "cell_type": "code",
   "execution_count": 5,
   "metadata": {},
   "outputs": [],
   "source": [
    "def filter_empresas_PJ_ativas(df:pd.DataFrame):\n",
    "    if len(df) > 0:\n",
    "        novo_df = df[df['Natureza'].str.contains('PJ') == True].copy()\n",
    "        novo_df = novo_df[novo_df['Situação'] == \"ATIVO\"].copy()\n",
    "        return novo_df\n",
    "    else:\n",
    "        return pd.DataFrame(columns=[\"Inscrição\", \"Identificação\", \"Situação\", \"Certidão de Regularidade\", \"Contato\", \"Natureza\", \"Bairro\"])\n"
   ]
  },
  {
   "cell_type": "code",
   "execution_count": 6,
   "metadata": {},
   "outputs": [],
   "source": [
    "def remover_pos_fixo_df(df:pd.DataFrame):\n",
    "    df_novo = pd.DataFrame()\n",
    "    for idx, item in df.iterrows():\n",
    "        item_dict = dict(item)\n",
    "        nome_antigo = item_dict[\"Identificação\"]\n",
    "        nome_novo = nome_antigo.replace(\"LTDA\", \"\")\n",
    "        nome_novo = nome_novo.replace(\"EIRELI\", \"\")\n",
    "        nome_novo = nome_novo.replace(\"S/A\", \"\")\n",
    "        nome_novo = nome_novo.replace(\".\", \"\")\n",
    "        nome_novo = nome_novo.replace(\"-\", \"\")\n",
    "        nome_novo = nome_novo.replace(\"ME\", \"\")\n",
    "        nome_novo = nome_novo.replace(\"VICEVERSA\", \"VICE-VERSA\")\n",
    "        item_dict[\"Identificação\"] = nome_novo\n",
    "        item_df = pd.DataFrame(item_dict, index=[0])\n",
    "        df_novo = pd.concat([df_novo, item_df], ignore_index=True)\n",
    "    return df_novo\n",
    "    "
   ]
  },
  {
   "cell_type": "code",
   "execution_count": 7,
   "metadata": {},
   "outputs": [],
   "source": [
    "def restaurar_identificacao(\n",
    "        df_novo: pd.DataFrame, df_antigo: pd.DataFrame, \n",
    "        id_col: str = 'Inscrição', indice_new_item: str = 'Identificação'\n",
    ") -> pd.DataFrame:\n",
    "    \n",
    "    df_novo_restaurado = df_novo.copy()  # Criando uma cópia do dataframe novo para evitar modificações indesejadas\n",
    "    \n",
    "    # Criando um dicionário de mapeamento entre os IDs do dataframe novo e as identificações do dataframe antigo\n",
    "    mapeamento = dict(zip(df_antigo[id_col], df_antigo[indice_new_item]))\n",
    "    \n",
    "    # Restaurando os valores originais da coluna \"Identificação\" no dataframe novo com base no ID\n",
    "    df_novo_restaurado['Identificação'] = df_novo[id_col].map(mapeamento)\n",
    "    \n",
    "    return df_novo_restaurado\n"
   ]
  },
  {
   "cell_type": "code",
   "execution_count": 8,
   "metadata": {},
   "outputs": [],
   "source": [
    "def transforma_dataframe_em_lista(dataframe):\n",
    "    # Transforma o DataFrame em uma lista de listas\n",
    "    lista = dataframe.values.tolist()\n",
    "\n",
    "    # Retorna a lista\n",
    "    return lista"
   ]
  },
  {
   "cell_type": "code",
   "execution_count": 9,
   "metadata": {},
   "outputs": [],
   "source": [
    "def filtrar_df_from_df(df_og, df_filter, col_id=\"Inscrição\"):\n",
    "    '''\n",
    "    Remove do df Original (og), os itens onde a coluna de indice (col_id)\n",
    "    é igual em algum item da df_og e df_filter\n",
    "    '''\n",
    "    return df_og[~df_og[col_id].isin(df_filter[col_id])]\n"
   ]
  }
 ],
 "metadata": {
  "kernelspec": {
   "display_name": "pedroceglia",
   "language": "python",
   "name": "python3"
  },
  "language_info": {
   "codemirror_mode": {
    "name": "ipython",
    "version": 3
   },
   "file_extension": ".py",
   "mimetype": "text/x-python",
   "name": "python",
   "nbconvert_exporter": "python",
   "pygments_lexer": "ipython3",
   "version": "3.11.8"
  }
 },
 "nbformat": 4,
 "nbformat_minor": 2
}
