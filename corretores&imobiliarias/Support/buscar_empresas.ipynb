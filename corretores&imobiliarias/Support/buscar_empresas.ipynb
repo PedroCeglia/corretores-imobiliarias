{
 "cells": [
  {
   "cell_type": "code",
   "execution_count": null,
   "metadata": {},
   "outputs": [],
   "source": [
    "import pandas as pd\n",
    "\n",
    "from linkana_support import buscar_empresa_linkana\n",
    "from cnpjbiz_support import buscar_empresa_cnpjbiz"
   ]
  },
  {
   "cell_type": "code",
   "execution_count": null,
   "metadata": {},
   "outputs": [],
   "source": [
    "def buscar_dados_empresas_linkana(empresa):\n",
    "    nome_empresa = empresa[\"Identificação\"]\n",
    "    inscricao_empresa = empresa[\"Inscrição\"]\n",
    "\n",
    "    dados_novos = {}\n",
    "    recuperou = buscar_empresa_linkana(nome_empresa, inscricao_empresa)\n",
    "    if not recuperou or \"error\" in recuperou:\n",
    "        if \"error\" in recuperou:\n",
    "            dados_novos.update(recuperou)\n",
    "\n",
    "        print(\"Não Achou: \", nome_empresa)\n",
    "    else:\n",
    "        dados_novos.update(recuperou)\n",
    "\n",
    "    return dados_novos\n"
   ]
  },
  {
   "cell_type": "code",
   "execution_count": null,
   "metadata": {},
   "outputs": [],
   "source": [
    "def buscar_dados_empresa_transformar_df_linkana(empresa):\n",
    "    try:\n",
    "        dados_novos = buscar_dados_empresas_linkana(empresa)\n",
    "    except Exception as e:\n",
    "        print(e)\n",
    "        return pd.DataFrame()\n",
    "    else:\n",
    "        print(dados_novos)\n",
    "        if len(dados_novos) > 0:\n",
    "            dados_empresa = dict(empresa)\n",
    "            for idx_item, valor in dados_novos.items():\n",
    "                #valor_str = transformando_lista_string(valor)\n",
    "                dados_empresa.update({idx_item: valor})\n",
    "            return pd.DataFrame(dados_empresa, index=[0])\n",
    "            \n"
   ]
  },
  {
   "cell_type": "code",
   "execution_count": null,
   "metadata": {},
   "outputs": [],
   "source": [
    "def buscar_todas_empresas_bairro_linkana(df:pd.DataFrame):\n",
    "    completos_columns = [\"Inscrição\",\"Identificação\",\"CNPJ\",\"Nome Fantasia\",\"Situação\",\"Certidão de Regularidade\",\"Contato\",\"Natureza\",\"Bairro\",\"Contatos\",\"Socios\",\"Endereço\"]\n",
    "    completos_df = pd.DataFrame(columns=completos_columns)\n",
    "    incompletos_columns = [\"Inscrição\",\"Identificação\",\"Situação\",\"Certidão de Regularidade\",\"Contato\",\"Natureza\",\"Bairro\",\"error\"]\n",
    "    incompletos_df = pd.DataFrame(columns=incompletos_columns)\n",
    "\n",
    "    for idx, empresa in df.iterrows():\n",
    "        try:\n",
    "            empresa_completa = buscar_dados_empresa_transformar_df_linkana(empresa)\n",
    "            display(empresa_completa)\n",
    "            if not empresa_completa.empty and not \"error\" in empresa_completa:\n",
    "                completos_df = pd.concat([completos_df, empresa_completa], ignore_index=True)\n",
    "            elif \"error\" in empresa_completa:\n",
    "                incompletos_df = pd.concat([incompletos_df, empresa_completa], ignore_index=True)\n",
    "                print(\"DEu erro: \", idx)\n",
    "        except Exception as e:\n",
    "                print(\"DEu erro: \", idx, e)\n",
    "    if \"error\" in incompletos_df:\n",
    "        incompletos_df.drop(columns=\"error\")\n",
    "                \n",
    "\n",
    "    return completos_df, incompletos_df\n"
   ]
  },
  {
   "cell_type": "code",
   "execution_count": null,
   "metadata": {},
   "outputs": [],
   "source": [
    "def buscar_dados_empresas_cnpjbiz(empresa):\n",
    "    nome_empresa = empresa[\"Identificação\"]\n",
    "    inscricao_empresa = empresa[\"Inscrição\"]\n",
    "\n",
    "    dados_novos = {}\n",
    "    recuperou = buscar_empresa_cnpjbiz(nome_empresa, inscricao_empresa)\n",
    "\n",
    "    print(\"Recuperou\", recuperou)\n",
    "    if not recuperou or \"error\" in recuperou:\n",
    "        if \"error\" in recuperou:\n",
    "            dados_novos.update(recuperou)\n",
    "\n",
    "        print(\"Não Achou: \", nome_empresa)\n",
    "    else:\n",
    "        dados_novos.update(recuperou)\n",
    "\n",
    "    print(\"DAdos Novos\", dados_novos)\n",
    "    \n",
    "    return dados_novos"
   ]
  },
  {
   "cell_type": "code",
   "execution_count": null,
   "metadata": {},
   "outputs": [],
   "source": [
    "def buscar_dados_empresa_transformar_df_cnpjbiz(empresa):\n",
    "    try:\n",
    "        dados_novos = buscar_dados_empresas_cnpjbiz(empresa)\n",
    "    except Exception as e:\n",
    "        print(e)\n",
    "        return pd.DataFrame()\n",
    "    else:\n",
    "        print(dados_novos)\n",
    "        if len(dados_novos) > 0:\n",
    "            dados_empresa = dict(empresa)\n",
    "            for idx_item, valor in dados_novos.items():\n",
    "                dados_empresa.update({idx_item: valor})\n",
    "            return pd.DataFrame(dados_empresa, index=[0])"
   ]
  },
  {
   "cell_type": "code",
   "execution_count": null,
   "metadata": {},
   "outputs": [],
   "source": [
    "def buscar_todas_empresas_bairro_cnpjbiz(df:pd.DataFrame):\n",
    "    completos_columns = [\"Inscrição\",\"Identificação\",\"CNPJ\",\"Nome Fantasia\",\"Situação\",\"Certidão de Regularidade\",\"Contato\",\"Natureza\",\"Bairro\",\"Contatos\",\"Socios\",\"Endereço\"]\n",
    "    completos_df = pd.DataFrame(columns=completos_columns)\n",
    "    incompletos_columns = [\"Inscrição\",\"Identificação\",\"Situação\",\"Certidão de Regularidade\",\"Contato\",\"Natureza\",\"Bairro\",\"error\"]\n",
    "    incompletos_df = pd.DataFrame(columns=incompletos_columns)\n",
    "\n",
    "    for idx, empresa in df.iterrows():\n",
    "        try:\n",
    "            empresa_completa = buscar_dados_empresa_transformar_df_cnpjbiz(empresa)\n",
    "            display(empresa_completa)\n",
    "            if not empresa_completa.empty and not \"error\" in empresa_completa:\n",
    "                completos_df = pd.concat([completos_df, empresa_completa], ignore_index=True)\n",
    "            elif \"error\" in empresa_completa:\n",
    "                incompletos_df = pd.concat([incompletos_df, empresa_completa], ignore_index=True)\n",
    "                print(\"DEu erro: \", idx)\n",
    "        except Exception as e:\n",
    "                print(\"DEu erro: \", idx, e)\n",
    "    if \"error\" in incompletos_df:\n",
    "        incompletos_df.drop(columns=\"error\")\n",
    "                \n",
    "\n",
    "    return completos_df, incompletos_df"
   ]
  }
 ],
 "metadata": {
  "kernelspec": {
   "display_name": "pedroceglia",
   "language": "python",
   "name": "python3"
  },
  "language_info": {
   "codemirror_mode": {
    "name": "ipython",
    "version": 3
   },
   "file_extension": ".py",
   "mimetype": "text/x-python",
   "name": "python",
   "nbconvert_exporter": "python",
   "pygments_lexer": "ipython3",
   "version": "3.11.7"
  }
 },
 "nbformat": 4,
 "nbformat_minor": 2
}
