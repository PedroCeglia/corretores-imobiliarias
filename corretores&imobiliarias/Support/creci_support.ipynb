{
 "cells": [
  {
   "cell_type": "code",
   "execution_count": 1,
   "metadata": {},
   "outputs": [],
   "source": [
    "import time\n",
    "import pandas as pd\n",
    "import pyautogui\n",
    "pyautogui.PAUSE = 1\n",
    "from selenium import webdriver\n",
    "from selenium.webdriver.common.by import By\n",
    "from selenium.webdriver.common.action_chains import ActionChains\n",
    "from selenium.webdriver.common.keys import Keys\n",
    "from io import StringIO"
   ]
  },
  {
   "cell_type": "code",
   "execution_count": 2,
   "metadata": {},
   "outputs": [],
   "source": [
    "from Automacao.auto_support import iniciando_edge_selenium"
   ]
  },
  {
   "cell_type": "markdown",
   "metadata": {},
   "source": [
    "# Lista de Bairros"
   ]
  },
  {
   "cell_type": "code",
   "execution_count": 16,
   "metadata": {},
   "outputs": [],
   "source": [
    "lista_bairros_zona_norte = [\n",
    "    \"Acari\", \"Anchieta\", \"Barros Filho\", \"Bento Ribeiro\", \"Brás de Pina\", \"Campinho\", \"Cavalcanti\", \"Cascadura\", \"Coelho Neto\", \"Colégio\",\n",
    "    \"Complexo do Alemão\", \"Cordovil\", \"Costa Barros\", \"Engenheiro Leal\", \"Engenho da Rainha\", \"Guadalupe\", \"Honório Gurgel\", \"Inhaúma\", \"Irajá\",\n",
    "    \"Jardim América\", \"Madureira\", \"Marechal Hermes\", \"Oswaldo Cruz\", \"Parada de Lucas\", \"Parque Anchieta\", \"Parque Colúmbia\", \"Pavuna\", \"Penha\",\n",
    "    \"Penha Circular\", \"Quintinho Bocaiuva\", \"Ricardo de Albuquerque\", \"Rocha Miranda\", \"Tómas Coelho\", \"Turiaçu\", \"Vaz Lobo\", \"Vicente de Carvalho\",\n",
    "    \"Vigário Geral\", \"Vila da Penha\", \"Vila Kosmos\", \"Vista Alegre\" \n",
    "]\n",
    "lista_bairros_ilha_gov_leopoldina = [\n",
    "    \"Bonsucesso\", \"Bancários\", \"Cacuia\", \"Cidade Universitária\", \"Cocotá\", \"Freguesia\", \"Galeão\", \"Jardim Carioca\", \"Jardim Guanabara\", \"Maré\",\n",
    "    \"Moneró\", \"Olaria\", \"Pitangueiras\", \"Portuguesa\", \"Praia da Bandeira\", \"Ramos\", \"Ribeira\", \"Tauá\", \"Zumbi\" \n",
    "]\n",
    "lista_bairros_tijuca = [\n",
    "    \"Alto da Boa Vista\", \"Andaraí\", \"Grajaú\", \"Maracanã\", \"Praça da Bandeira\", \"Tijuca\", \"Vila Isabel\", \"Barra da Tijuca\"\n",
    "]\n",
    "lista_bairros_meier = [\n",
    "    \"Abolição\", \"Agua Santa\", \"Cachambi\", \"Del Castilho\", \"Encantado\", \"Engenho de Dentro\", \"Engenho Novo\", \"Higienópolis\", \"Jacaré\", \"Jacarezinho\",\n",
    "    \"Lins de Vasconcelos\", \"Manguinhos\", \"Maria da Graça\", \"Méier\", \"Piedade\", \"Pilares\", \"Riachuelo\", \"Rocha\", \"Sampaio\", \"São Francisco Xavier\",\n",
    "    \"Todos os Santos\",  \n",
    "]\n",
    "\n",
    "lista_bairros = lista_bairros_zona_norte + lista_bairros_ilha_gov_leopoldina + lista_bairros_tijuca + lista_bairros_meier\n",
    "dict_bairros = {}"
   ]
  },
  {
   "cell_type": "markdown",
   "metadata": {},
   "source": [
    "# Baixar Tabela Por Bairro"
   ]
  },
  {
   "cell_type": "code",
   "execution_count": 17,
   "metadata": {},
   "outputs": [],
   "source": [
    "def baixar_tabela_por_bairro(bairro):\n",
    "    driver = iniciando_edge_selenium('https://www.crecirj.conselho.net.br/form_pesquisa_cadastro_geral_site.php')\n",
    "    \n",
    "    # Localiza os campos do formulário e preenche-os\n",
    "    campo_bairro = driver.find_element(\"id\", \"input-27\")\n",
    "    campo_bairro.send_keys(bairro)\n",
    "\n",
    "    # Envie o formulário\n",
    "    campo_bairro.send_keys(Keys.RETURN)\n",
    "\n",
    "    # Aguarde um tempo para a página carregar completamente\n",
    "    time.sleep(4)\n",
    "\n",
    "    # Pular para o final da pagina\n",
    "    for _ in range(25):  \n",
    "        pyautogui.press('down')  # Simula pressionar a tecla de seta para baixo\n",
    "        time.sleep(0.2) \n",
    "\n",
    "    # Mova o cursor do mouse para o ponto médio do elemento usando PyAutoGUI\n",
    "    pyautogui.moveTo(171, 979)\n",
    "\n",
    "    # Simule um clique do mouse usando PyAutoGUI\n",
    "    pyautogui.click()\n",
    "\n",
    "    time.sleep(1)\n",
    "\n",
    "    pyautogui.click()\n",
    "\n",
    "    time.sleep(6)\n",
    "\n",
    "    try:\n",
    "        # Encontra a tabela na página\n",
    "        table = driver.find_elements('css selector', 'table')\n",
    "        table_html = table[0].get_attribute('outerHTML')\n",
    "    except IndexError:\n",
    "        print(f\"Não existe nenhuma corretora/imobiliaria em {bairro}!\")\n",
    "        print(f\"Verifique se o nome do bairro esta certo! {bairro}\\n\")\n",
    "        driver.quit()\n",
    "        return pd.DataFrame()\n",
    "    else:\n",
    "        df = pd.read_html(StringIO(table_html))[0]  # Este método retorna uma lista de DataFrames, portanto, pegamos o primeiro\n",
    "        driver.quit()\n",
    "        print(bairro, len(df),end='; ')\n",
    "        return df"
   ]
  },
  {
   "cell_type": "markdown",
   "metadata": {},
   "source": [
    "# Baixar Tabela de Todos os Bairros"
   ]
  },
  {
   "cell_type": "code",
   "execution_count": 18,
   "metadata": {},
   "outputs": [],
   "source": [
    "def baixar_tabela_todos_bairros():\n",
    "    for bairro in lista_bairros:\n",
    "        tabela_bairro = baixar_tabela_por_bairro(bairro)\n",
    "        dict_bairros.update({bairro:tabela_bairro})"
   ]
  },
  {
   "cell_type": "code",
   "execution_count": 19,
   "metadata": {},
   "outputs": [
    {
     "name": "stdout",
     "output_type": "stream",
     "text": [
      "0\n"
     ]
    }
   ],
   "source": [
    "dict_bairros_edit = dict_bairros.copy()\n",
    "print(len(dict_bairros_edit))"
   ]
  },
  {
   "cell_type": "markdown",
   "metadata": {},
   "source": [
    "# Filtra as Informações das Empresas"
   ]
  },
  {
   "cell_type": "code",
   "execution_count": 20,
   "metadata": {},
   "outputs": [],
   "source": [
    "def editar_campos_empresa():\n",
    "    for bairro, tb in dict_bairros_edit.items():\n",
    "        try:\n",
    "            tb.drop(columns=['Unnamed: 5'], inplace=True)\n",
    "        except KeyError:\n",
    "            pass\n",
    "        \n",
    "        for index, linha in tb.iterrows():\n",
    "            nome = linha[\"Identificação\"]\n",
    "            tb.at[index, \"Bairro\"] = bairro\n",
    "            \n",
    "            if \" PJ \" in nome:\n",
    "                novo_nome = nome.replace(\" PJ P\", \"\").replace(\" PJ \", \"\")\n",
    "                tb.at[index, \"Identificação\"] = novo_nome\n",
    "                tb.at[index, \"Natureza\"] = \"PJ P\"\n",
    "            elif \" PF \" in nome:\n",
    "                novo_nome = nome.replace(\" PF P\", \"\").replace(\" PF \", \"\")\n",
    "                tb.at[index, \"Identificação\"] = novo_nome\n",
    "                tb.at[index,\"Natureza\"] = \"PF P\"\n",
    "        print(\"Bairro:\", bairro)\n",
    "\n",
    "#editar_campos_empresa()"
   ]
  },
  {
   "cell_type": "markdown",
   "metadata": {},
   "source": [
    "# Preenche as colunas Nan com \"\""
   ]
  },
  {
   "cell_type": "code",
   "execution_count": 21,
   "metadata": {},
   "outputs": [],
   "source": [
    "def preencher_nan_com_vazio(df):\n",
    "    # Iterar sobre todas as células do DataFrame\n",
    "    for coluna in df.columns:\n",
    "        for indice, valor in df[coluna].items():\n",
    "            if pd.isna(valor):  # Verificar se o valor é NaN\n",
    "                df.at[indice, coluna] = \"\"  # Substituir NaN por uma string vazia\n",
    "    return df\n",
    "\n",
    "def preencher_bairros_nan_com_vazio(dict_bairros_p):\n",
    "    new_dict = {}\n",
    "    for bairro, tb in dict_bairros_p.items():\n",
    "        novo_df = preencher_nan_com_vazio(tb)\n",
    "        new_dict.update({bairro: novo_df})\n",
    "\n",
    "    return new_dict.copy()\n",
    "\n",
    "dict_bairros_edit = preencher_bairros_nan_com_vazio(dict_bairros_edit)"
   ]
  },
  {
   "cell_type": "markdown",
   "metadata": {},
   "source": [
    "# Verifica Quantas Empresas estão Ativas ou Inativas"
   ]
  },
  {
   "cell_type": "code",
   "execution_count": 22,
   "metadata": {},
   "outputs": [],
   "source": [
    "ativos_qnt = 0\n",
    "inativos_qnt = 0\n",
    "\n",
    "def verifica_aitvos_inativos(dataframe):\n",
    "    ativos = 0\n",
    "    inativos = 0\n",
    "    for index, linha in dataframe.iterrows():\n",
    "        if \"PJ\" in  linha[\"Natureza\"]:\n",
    "            if linha[\"Situação\"] == \"ATIVO\":\n",
    "                ativos += 1 \n",
    "            else: \n",
    "                inativos += 1\n",
    "    return (ativos, inativos)\n",
    "\n",
    "def contar_ativos_inativos_todos_bairros():\n",
    "    for bairro, tb in dict_bairros_edit.items():\n",
    "        novo_ativos_qnt, novo_inativos_qnt = verifica_aitvos_inativos(tb)\n",
    "        ativos_qnt += novo_ativos_qnt\n",
    "        inativos_qnt += novo_inativos_qnt\n",
    "\n",
    "    print(\"Ativos\", ativos_qnt)\n",
    "    print(\"Inativos\", inativos_qnt)\n",
    "    print(\"Total\", ativos_qnt + inativos_qnt)\n",
    "\n",
    "#contar_ativos_inativos_todos_bairros()"
   ]
  },
  {
   "cell_type": "markdown",
   "metadata": {},
   "source": [
    "# Retorna apenas as empresas ativas e disponiveis de um dicionario de empresas por bairros"
   ]
  },
  {
   "cell_type": "code",
   "execution_count": 23,
   "metadata": {},
   "outputs": [],
   "source": [
    "def bairros_ativos_disponiveis(bairros):\n",
    "    novo_dict = {}\n",
    "    for bairro_nome, bairro_tabela in bairros.items():\n",
    "        print(bairro_nome)\n",
    "        if not bairro_tabela.empty:\n",
    "            nova_tabela = bairro_tabela.loc[bairro_tabela[\"Situação\"] == \"ATIVO\"]\n",
    "            nova_tabela = nova_tabela.loc[bairro_tabela[\"Certidão de Regularidade\"] == \"REGULAR\"]\n",
    "            novo_dict.update({bairro_nome:nova_tabela})\n",
    "        else:\n",
    "            print(\"Vazio\",bairro_nome)\n",
    "    return novo_dict.copy()\n",
    "\n",
    "#print(len(dict_bairros_edit))\n",
    "#dict_bairros_edit = bairros_ativos_disponiveis(dict_bairros_edit)\n",
    "#print(len(dict_imobiliaria_ativa_disponivel[\"Tijuca\"]))"
   ]
  },
  {
   "cell_type": "markdown",
   "metadata": {},
   "source": [
    "# Verifica se a empresa existe no cresci"
   ]
  },
  {
   "cell_type": "code",
   "execution_count": 24,
   "metadata": {},
   "outputs": [],
   "source": [
    "def verificar_cnpj_cresci(cnpj, inscricao_empresa):\n",
    "    # empresa = {informações da linha do dataframe}\n",
    "    # Entrar no Cresci\n",
    "    driver = iniciando_edge_selenium('https://www.crecirj.conselho.net.br/form_pesquisa_cadastro_geral_site.php')\n",
    "    # Digitar o CNPJ\n",
    "    time.sleep(1)\n",
    "    campo_cnpj = driver.find_element(\"id\", \"input-21\")\n",
    "    time.sleep(1)\n",
    "    campo_cnpj.send_keys(cnpj)\n",
    "    time.sleep(1)\n",
    "    # Envie o formulário\n",
    "    campo_cnpj.send_keys(Keys.RETURN)\n",
    "    time.sleep(2)\n",
    "    # Verificar se é compativel\n",
    "    try:\n",
    "        # Encontra a tabela na página\n",
    "        table = driver.find_elements('css selector', 'table')\n",
    "        table_html = table[0].get_attribute('outerHTML')\n",
    "    except IndexError:\n",
    "        driver.quit()\n",
    "        return False\n",
    "    else:\n",
    "        df = pd.read_html(StringIO(table_html))[0]  # Este método retorna uma lista de DataFrames, portanto, pegamos o primeiro\n",
    "        driver.quit()\n",
    "        # Recuperando dados da empresa\n",
    "        empreasa_info = df.iloc[0]\n",
    "        empresa_inscricao = empreasa_info[\"Inscrição\"]\n",
    "\n",
    "        if int(empresa_inscricao) == int(inscricao_empresa):\n",
    "            return True\n",
    "        else:\n",
    "            print(f\"A inscriçãoda da empresa {inscricao_empresa} é diferente de {empresa_inscricao}\")\n",
    "            return False"
   ]
  }
 ],
 "metadata": {
  "kernelspec": {
   "display_name": "pedroceglia",
   "language": "python",
   "name": "python3"
  },
  "language_info": {
   "codemirror_mode": {
    "name": "ipython",
    "version": 3
   },
   "file_extension": ".py",
   "mimetype": "text/x-python",
   "name": "python",
   "nbconvert_exporter": "python",
   "pygments_lexer": "ipython3",
   "version": "3.11.8"
  }
 },
 "nbformat": 4,
 "nbformat_minor": 2
}
