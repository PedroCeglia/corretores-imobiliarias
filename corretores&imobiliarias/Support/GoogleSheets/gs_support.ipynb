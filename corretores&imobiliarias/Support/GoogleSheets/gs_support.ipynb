{
 "cells": [
  {
   "cell_type": "code",
   "execution_count": 1,
   "metadata": {},
   "outputs": [],
   "source": [
    "import os.path\n",
    "\n",
    "from google.auth.transport.requests import Request\n",
    "from google.oauth2.credentials import Credentials\n",
    "from google_auth_oauthlib.flow import InstalledAppFlow\n",
    "\n",
    "import gspread\n",
    "from gspread_dataframe import set_with_dataframe\n",
    "\n",
    "import pandas as pd"
   ]
  },
  {
   "cell_type": "code",
   "execution_count": 2,
   "metadata": {},
   "outputs": [],
   "source": [
    "SCOPES = [\"https://www.googleapis.com/auth/drive\", \"https://www.googleapis.com/auth/spreadsheets\"]\n",
    "\n",
    "def validar_token_google_sheets():\n",
    "  creds = None\n",
    "  # The file token.json stores the user's access and refresh tokens, and is\n",
    "  # created automatically when the authorization flow completes for the first\n",
    "  # time.\n",
    "  if os.path.exists(\"token.json\"):\n",
    "    creds = Credentials.from_authorized_user_file(\"token.json\", SCOPES)\n",
    "  # If there are no (valid) credentials available, let the user log in.\n",
    "  if not creds or not creds.valid:\n",
    "    if creds and creds.expired and creds.refresh_token:\n",
    "      creds.refresh(Request())\n",
    "    else:\n",
    "      flow = InstalledAppFlow.from_client_secrets_file(\n",
    "          \"client_secret.json\", SCOPES\n",
    "      )\n",
    "      creds = flow.run_local_server(port=0)\n",
    "    # Save the credentials for the next run\n",
    "    with open(\"token.json\", \"w\") as token:\n",
    "      token.write(creds.to_json())\n",
    "  return creds\n"
   ]
  },
  {
   "cell_type": "code",
   "execution_count": 3,
   "metadata": {},
   "outputs": [],
   "source": [
    "def criar_planilha_gs(nome_planilha):\n",
    "    creds = validar_token_google_sheets()\n",
    "    client = gspread.authorize(creds)  # Substitua 'credentials.json' pelo caminho do seu arquivo de credenciais\n",
    "\n",
    "    # Cria uma nova planilha com o nome fornecido\n",
    "    nova_planilha = client.create(nome_planilha)\n",
    "\n",
    "    # Retorna o objeto da planilha recém-criada\n",
    "    return nova_planilha"
   ]
  },
  {
   "cell_type": "code",
   "execution_count": 4,
   "metadata": {},
   "outputs": [],
   "source": [
    "def ler_planilha(nome_planilha, nome_pagina):\n",
    "    creds = validar_token_google_sheets()\n",
    "    client = gspread.authorize(creds) \n",
    "\n",
    "    # Abre a planilha pelo nome\n",
    "    planilha = client.open(nome_planilha)\n",
    "\n",
    "    # Seleciona a página desejada\n",
    "    pagina = planilha.worksheet(nome_pagina)\n",
    "\n",
    "    # Lê os dados da página como uma lista de listas\n",
    "    dados = pagina.get_all_values()\n",
    "\n",
    "    # Retorna os dados\n",
    "    return dados"
   ]
  },
  {
   "cell_type": "code",
   "execution_count": 5,
   "metadata": {},
   "outputs": [],
   "source": [
    "def editar_planilha(nome_planilha, nome_pagina, dados):\n",
    "    # Autentica usando credenciais do Google Cloud Platform\n",
    "    creds = validar_token_google_sheets()\n",
    "    client = gspread.authorize(creds)\n",
    "    # Abre a planilha pelo nome\n",
    "    planilha = client.open(nome_planilha)\n",
    "\n",
    "    # Seleciona a página desejada\n",
    "    pagina = planilha.worksheet(nome_pagina)\n",
    "\n",
    "    # Limpa os dados existentes na página\n",
    "    pagina.clear()\n",
    "\n",
    "    # Preenche a página com os novos dados\n",
    "    for i, linha in enumerate(dados, start=1):\n",
    "        pagina.update(f\"A{i}\", [str(valor) for valor in linha])\n"
   ]
  },
  {
   "cell_type": "code",
   "execution_count": 6,
   "metadata": {},
   "outputs": [],
   "source": [
    "def transforma_dataframe_em_lista(dataframe):\n",
    "    # Transforma o DataFrame em uma lista de listas\n",
    "    lista = dataframe.values.tolist()\n",
    "\n",
    "    # Retorna a lista\n",
    "    return lista"
   ]
  },
  {
   "cell_type": "code",
   "execution_count": 1,
   "metadata": {},
   "outputs": [],
   "source": [
    "def baixar_pagina_planilha(nome_planilha, nome_pagina):\n",
    "    # Autentica usando credenciais do Google Cloud Platform\n",
    "    creds = validar_token_google_sheets()\n",
    "    client = gspread.authorize(creds) \n",
    "\n",
    "    # Abre a planilha pelo nome\n",
    "    planilha = client.open(nome_planilha)\n",
    "\n",
    "    # Seleciona a página desejada\n",
    "    pagina = planilha.worksheet(nome_pagina)\n",
    "\n",
    "    # Obtém os dados da página como DataFrame\n",
    "    dataframe = pd.DataFrame(pagina.get_all_records())\n",
    "\n",
    "    # Retorna o DataFrame\n",
    "    return dataframe\n"
   ]
  },
  {
   "cell_type": "code",
   "execution_count": 8,
   "metadata": {},
   "outputs": [],
   "source": [
    "def remover_copias(df_remove, df_continua):\n",
    "    print(\"Len:\",len(df_remove),\"\\nLen:\", len(df_continua))\n",
    "    # Identificar linhas em comum com base no número de inscrição\n",
    "    inscricoes_comuns = set(df_remove['Inscrição']).intersection(set(df_continua['Inscrição']))\n",
    "\n",
    "    # Remover as linhas correspondentes do dataframe da página \"Tijuca\"\n",
    "    df_remove = df_remove[~df_remove['Inscrição'].isin(inscricoes_comuns)]\n",
    "\n",
    "    print(\"Len:\",len(df_remove),\"\\nLen:\", len(df_continua))\n",
    "    return df_remove\n",
    "\n"
   ]
  },
  {
   "cell_type": "code",
   "execution_count": 9,
   "metadata": {},
   "outputs": [],
   "source": [
    "def remover_planilha_adicionar_df(nome_planilha, nome_pagina, novo_df):\n",
    "    creds = validar_token_google_sheets()\n",
    "    client = gspread.authorize(creds)\n",
    "    spreadsheet = client.open(nome_planilha)\n",
    "    worksheet = spreadsheet.worksheet(nome_pagina)\n",
    "\n",
    "    # Limpar os dados na planilha\n",
    "    worksheet.clear()\n",
    "    # Atualizar a planilha com os dados atualizados\n",
    "    novo_df_list = transforma_dataframe_em_lista(novo_df, add_columns=True)\n",
    "    worksheet.append_rows(novo_df_list)\n",
    "    print(\"Planilha atualizada\")"
   ]
  }
 ],
 "metadata": {
  "kernelspec": {
   "display_name": "pedroceglia",
   "language": "python",
   "name": "python3"
  },
  "language_info": {
   "codemirror_mode": {
    "name": "ipython",
    "version": 3
   },
   "file_extension": ".py",
   "mimetype": "text/x-python",
   "name": "python",
   "nbconvert_exporter": "python",
   "pygments_lexer": "ipython3",
   "version": "3.11.8"
  }
 },
 "nbformat": 4,
 "nbformat_minor": 2
}
