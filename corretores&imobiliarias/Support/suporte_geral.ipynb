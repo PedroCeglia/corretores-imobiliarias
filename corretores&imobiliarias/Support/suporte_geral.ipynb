{
 "cells": [
  {
   "cell_type": "code",
   "execution_count": 2,
   "metadata": {},
   "outputs": [],
   "source": [
    "import time"
   ]
  },
  {
   "cell_type": "code",
   "execution_count": 3,
   "metadata": {},
   "outputs": [
    {
     "name": "stdout",
     "output_type": "stream",
     "text": [
      "Espere 5 segundos...\n",
      "Coordenadas do mouse: x=190, y=294\n"
     ]
    }
   ],
   "source": [
    "# Espere 5 segundos\n",
    "print(\"Espere 5 segundos...\")\n",
    "time.sleep(10)\n",
    "\n",
    "# Obtenha as coordenadas do mouse\n",
    "x, y = pyautogui.position()\n",
    "\n",
    "# Exiba as coordenadas do mouse\n",
    "print(f\"Coordenadas do mouse: x={x}, y={y}\")"
   ]
  }
 ],
 "metadata": {
  "kernelspec": {
   "display_name": "pedroceglia",
   "language": "python",
   "name": "python3"
  },
  "language_info": {
   "codemirror_mode": {
    "name": "ipython",
    "version": 3
   },
   "file_extension": ".py",
   "mimetype": "text/x-python",
   "name": "python",
   "nbconvert_exporter": "python",
   "pygments_lexer": "ipython3",
   "version": "3.11.8"
  }
 },
 "nbformat": 4,
 "nbformat_minor": 2
}
