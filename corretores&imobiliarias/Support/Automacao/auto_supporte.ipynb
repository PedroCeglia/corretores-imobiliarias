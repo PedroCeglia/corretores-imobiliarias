{
 "cells": [
  {
   "cell_type": "code",
   "execution_count": 1,
   "metadata": {},
   "outputs": [],
   "source": [
    "import easyocr\n",
    "import logging\n",
    "logging.getLogger('easyocr').setLevel(logging.ERROR) # Configura o nível de logging para suprimir os avisos da EasyOCR\n",
    "\n",
    "import time\n",
    "import pandas as pd\n",
    "import pyautogui\n",
    "pyautogui.PAUSE = 1\n",
    "\n",
    "import pygetwindow\n",
    "\n",
    "from selenium import webdriver"
   ]
  },
  {
   "cell_type": "code",
   "execution_count": 2,
   "metadata": {},
   "outputs": [],
   "source": [
    "def verificar_edge_maximizado():\n",
    "    # Obter todas as janelas abertas atualmente\n",
    "    janelas = pygetwindow.getAllWindows()\n",
    "\n",
    "    # Procurar a janela do Microsoft Edge entre as janelas abertas\n",
    "    for janela in janelas:\n",
    "        if \"Microsoft​ Edge\" in janela.title:\n",
    "            # Verificar se a janela está maximizada\n",
    "            return janela.isMaximized\n",
    "    else:\n",
    "        print(\"A janela do Microsoft Edge não está aberta.\")\n",
    "        return False\n"
   ]
  },
  {
   "cell_type": "code",
   "execution_count": 3,
   "metadata": {},
   "outputs": [],
   "source": [
    "def iniciando_edge_pyautogui(url):\n",
    "    pyautogui.press(\"win\")\n",
    "    time.sleep(1)\n",
    "    pyautogui.write(\"edge\")\n",
    "    time.sleep(1)\n",
    "    pyautogui.press(\"enter\")\n",
    "    \n",
    "    time.sleep(1)\n",
    "    # Ativar o modo de tela cheia pressionando windows + up\n",
    "    esta_maximizado = verificar_edge_maximizado()\n",
    "    if not esta_maximizado:\n",
    "        pyautogui.hotkey('win', 'up')\n",
    "\n",
    "    time.sleep(2)\n",
    "    pyautogui.write(url)  \n",
    "    pyautogui.press(\"enter\")\n",
    "    time.sleep(3)"
   ]
  },
  {
   "cell_type": "code",
   "execution_count": 4,
   "metadata": {},
   "outputs": [],
   "source": [
    "def iniciando_edge_selenium(url):\n",
    "    driver = webdriver.Edge()\n",
    "\n",
    "    # Maximize a janela do navegador\n",
    "    driver.maximize_window()\n",
    "    \n",
    "    #Abrir pagina\n",
    "    driver.get(url)\n",
    "    time.sleep(3)\n",
    "    return driver\n"
   ]
  },
  {
   "cell_type": "code",
   "execution_count": 5,
   "metadata": {},
   "outputs": [],
   "source": [
    "def recuperando_string_print(x1, y1, width, height):\n",
    "    '''\n",
    "    Captura um print da tela e transforma em string\n",
    "    '''\n",
    "    # Inicializa o EasyOCR para o idioma português\n",
    "    reader = easyocr.Reader(['pt'])\n",
    "\n",
    "    # Captura uma região da tela onde o texto está localizado (ajuste as coordenadas conforme necessário)\n",
    "    screenshot = pyautogui.screenshot(region=(x1, y1, width, height))\n",
    "\n",
    "    # Salva a captura de tela em um arquivo temporário\n",
    "    screenshot_path = \"screenshot_temp.png\"\n",
    "    screenshot.save(screenshot_path)\n",
    "\n",
    "    # Usa EasyOCR para realizar OCR na imagem\n",
    "    resultados = reader.readtext(screenshot_path)\n",
    "    \n",
    "    # Extrai o texto dos resultados\n",
    "    texto_copiado = \"\"\n",
    "    for resultado in resultados:\n",
    "        texto_copiado += resultado[1] + \" \"\n",
    "    return texto_copiado.strip()"
   ]
  }
 ],
 "metadata": {
  "kernelspec": {
   "display_name": "pedroceglia",
   "language": "python",
   "name": "python3"
  },
  "language_info": {
   "codemirror_mode": {
    "name": "ipython",
    "version": 3
   },
   "file_extension": ".py",
   "mimetype": "text/x-python",
   "name": "python",
   "nbconvert_exporter": "python",
   "pygments_lexer": "ipython3",
   "version": "3.11.8"
  }
 },
 "nbformat": 4,
 "nbformat_minor": 2
}
