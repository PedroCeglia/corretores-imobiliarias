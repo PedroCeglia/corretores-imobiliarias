{
 "cells": [
  {
   "cell_type": "code",
   "execution_count": 1,
   "metadata": {},
   "outputs": [],
   "source": [
    "import time\n",
    "import pyautogui\n",
    "import pyperclip"
   ]
  },
  {
   "cell_type": "code",
   "execution_count": 2,
   "metadata": {},
   "outputs": [],
   "source": [
    "from Automacao.auto_support import iniciando_edge_pyautogui, recuperando_string_print\n",
    "from creci_support import verificar_cnpj_cresci"
   ]
  },
  {
   "cell_type": "code",
   "execution_count": 17,
   "metadata": {},
   "outputs": [],
   "source": [
    "URL_CNPJBIZ = \"https://cnpj.biz/empresas\""
   ]
  },
  {
   "cell_type": "code",
   "execution_count": 18,
   "metadata": {},
   "outputs": [],
   "source": [
    "def pesquisar_empresa_nome_cnpjbiz(nome_empresa):\n",
    "    '''\n",
    "    Pesquisa uma empresa pelo nome\n",
    "    '''\n",
    "    time.sleep(2)\n",
    "    pyperclip.copy(nome_empresa)\n",
    "    time.sleep(1)\n",
    "    pyautogui.click(1062, 409)\n",
    "    pyautogui.hotkey(\"ctrl\", \"v\")\n",
    "    time.sleep(1)\n",
    "    pyautogui.press(\"enter\")\n",
    "    time.sleep(1)\n",
    "    "
   ]
  },
  {
   "cell_type": "code",
   "execution_count": 19,
   "metadata": {},
   "outputs": [],
   "source": [
    "def verificar_existe_empresa_cnpjbiz():\n",
    "    '''\n",
    "    Verifica se ao pesquisar a empresa, sera exibido uma mensagem de erro\n",
    "    Caso não seja encontrado nada sera retornado verdadeiro, caso o contrario falso\n",
    "    '''\n",
    "    deu_ruim = recuperando_string_print(639, 235, 500, 300)\n",
    "    time.sleep(1)\n",
    "    if \"Opa! Alguma coisa saiu errado\" in deu_ruim:\n",
    "        print(\"Deu ruim\")\n",
    "        return False\n",
    "    else:\n",
    "        return True"
   ]
  },
  {
   "cell_type": "code",
   "execution_count": 20,
   "metadata": {},
   "outputs": [],
   "source": [
    "def verifica_empresa_no_rj_cnpjbiz():\n",
    "    regiao = recuperando_string_print(639, 430, 300, 100)\n",
    "    time.sleep(1)\n",
    "    return \"Rio de Janeiro/RJ\" in regiao"
   ]
  },
  {
   "cell_type": "code",
   "execution_count": 21,
   "metadata": {},
   "outputs": [],
   "source": [
    "def capturar_cnpj_empresa_cnpjbiz():\n",
    "    '''\n",
    "    Captura um print da tela onde o cnpj deve estar. \n",
    "    E transforma essa imagem em texto\n",
    "    '''\n",
    "    pyautogui.moveTo(445,430)\n",
    "    texto = recuperando_string_print(445, 430, 300, 200).split(\" \")[0]\n",
    "    return texto"
   ]
  },
  {
   "cell_type": "code",
   "execution_count": 22,
   "metadata": {},
   "outputs": [],
   "source": [
    "def mover_ate_empresa_cnpjbiz(nome_empresa):\n",
    "    downs = 6 if len(nome_empresa) > 49 else 5\n",
    "    pyautogui.PAUSE = .5\n",
    "    for _ in range(downs):\n",
    "        pyautogui.press(\"down\")\n",
    "    pyautogui.PAUSE = 1"
   ]
  },
  {
   "cell_type": "code",
   "execution_count": 23,
   "metadata": {},
   "outputs": [],
   "source": [
    "def abrindo_empresa_cnpjbiz():\n",
    "    pyautogui.click(445,430)\n",
    "\n",
    "def direcionando_contatos_endereco_cnpjbiz():\n",
    "    pyautogui.PAUSE = .5\n",
    "    for _ in range(9):\n",
    "        pyautogui.press(\"down\")\n",
    "    pyautogui.PAUSE = 1\n",
    "\n",
    "#direcionando_contatos_endereco_cnpjbiz()"
   ]
  },
  {
   "cell_type": "code",
   "execution_count": 24,
   "metadata": {},
   "outputs": [],
   "source": [
    "def direcionando_nome_fantasia_cnpjbiz():\n",
    "    time.sleep(4)\n",
    "    pyautogui.PAUSE = .5\n",
    "    for _ in range(6):\n",
    "        pyautogui.press(\"down\")\n",
    "    pyautogui.PAUSE = 1\n",
    "\n",
    "\n",
    "def recuperar_nome_fantasia_cnpjbiz():\n",
    "    nome_fantasia_texto = recuperando_string_print(0, 0, 1000, 1000).replace(\":\", \"\")\n",
    "    try:\n",
    "        nome_fantasia_texto = nome_fantasia_texto.split(\" Nome Fantasia \")[1].split(\" Data da Abertura \")[0]\n",
    "        return nome_fantasia_texto\n",
    "    except:\n",
    "        return \"Nenhum Nome Fantasia encontrado\"\n",
    "\n",
    "#recuperar_nome_fantasia_cnpjbiz()\n",
    "    \n"
   ]
  },
  {
   "cell_type": "code",
   "execution_count": 25,
   "metadata": {},
   "outputs": [],
   "source": [
    "def recuperando_contatos_cnpj_biz(contatos_texto_og):\n",
    "    # Digitar o CNPJ\n",
    "    time.sleep(2)\n",
    "    contatos=\"\"\n",
    "    try:\n",
    "        contatos_texto = contatos_texto_og.split(\"Contatos \")[1].split(\" Localização \")[0]\n",
    "        contatos_texto = contatos_texto.replace(\"(Ligar)\", \"\")\n",
    "        contatos_texto = contatos_texto.replace(\"Telefone(s): \", \"\")\n",
    "        contatos_texto = contatos_texto.replace(\")\", \"\")\n",
    "        contatos_texto = contatos_texto.replace(\"(\", \"\")\n",
    "        contatos_texto = contatos_texto.replace(\"E-mails\", \"\")\n",
    "        contatos_texto = contatos_texto.replace(\"E-mail:\", \"\")\n",
    "        \n",
    "        contatos_texto = contatos_texto.replace(\" Enviar Email\", \"\")\n",
    "        contatos_texto = contatos_texto.replace(\" Enviar E-mail\", \"\")\n",
    "        contatos_texto = contatos_texto.replace(\" Whatsapp\", \"\")\n",
    "        contatos_texto = contatos_texto.replace(\". \", \".\") \n",
    "\n",
    "        contatos = contatos_texto\n",
    "    except:\n",
    "        contatos = \"\"\n",
    "    return contatos\n",
    "\n",
    "#recuperando_contatos_cnpj_biz()"
   ]
  },
  {
   "cell_type": "code",
   "execution_count": 26,
   "metadata": {},
   "outputs": [],
   "source": [
    "def recuperando_socios_cnpj_biz():\n",
    "    pyautogui.PAUSE = .5\n",
    "    for _ in range(12):\n",
    "        pyautogui.press(\"down\")\n",
    "    pyautogui.PAUSE = 1\n",
    "    socios_texto = recuperando_string_print(0, 0, 1000, 1000)\n",
    "    try:\n",
    "        socios_texto = socios_texto.split(\"Quadro de Sócios e Administradores\")[1].split(\"Qualificação do responsável pela empresa: \")[0]\n",
    "        socios_texto = socios_texto.replace(\" Sócio \", \" - \")\n",
    "        socios_texto = socios_texto.replace(\" Sócio-Administrador \", \" - \")\n",
    "\n",
    "        return socios_texto\n",
    "    except:\n",
    "        return \"Nenhum Socio Encontrado\"\n",
    "    \n",
    "#recuperando_socios_cnpj_biz()\n"
   ]
  },
  {
   "cell_type": "code",
   "execution_count": 27,
   "metadata": {},
   "outputs": [],
   "source": [
    "def recuperando_endereco_cnpj_biz(endereco_texto_og):\n",
    "    try:\n",
    "        endereco_texto = endereco_texto_og.split(\"Para correspondência:\")[1].split(\"Procurar no Google Maps\")[0]\n",
    "        print(endereco_texto)\n",
    "\n",
    "        return endereco_texto\n",
    "    except:\n",
    "        return \"Nenhum Socio Encontrado\"\n",
    "#recuperando_endereco_cnpj_biz()"
   ]
  },
  {
   "cell_type": "code",
   "execution_count": 28,
   "metadata": {},
   "outputs": [],
   "source": [
    "def buscar_empresa_cnpjbiz(nome_empresa, inscricao_empresa):\n",
    "    pyautogui.PAUSE = 1\n",
    "    iniciando_edge_pyautogui(URL_CNPJBIZ)\n",
    "    time.sleep(2)\n",
    "    pesquisar_empresa_nome_cnpjbiz(nome_empresa)\n",
    "    \n",
    "    existe_empresa = verificar_existe_empresa_cnpjbiz()\n",
    "    \n",
    "    if existe_empresa:\n",
    "        mover_ate_empresa_cnpjbiz(nome_empresa)\n",
    "        for i in range(10):\n",
    "            # Verificar se é no RJ\n",
    "            empresa_uf_RJ = verifica_empresa_no_rj_cnpjbiz()\n",
    "\n",
    "            if empresa_uf_RJ:\n",
    "                cnpj = capturar_cnpj_empresa_cnpjbiz()\n",
    "                cnpj_valido = verificar_cnpj_cresci(cnpj, inscricao_empresa)\n",
    "            \n",
    "                if cnpj_valido:\n",
    "                    abrindo_empresa_cnpjbiz()\n",
    "                    direcionando_nome_fantasia_cnpjbiz()\n",
    "                    nome_fantasia = recuperar_nome_fantasia_cnpjbiz()\n",
    "                    direcionando_contatos_endereco_cnpjbiz()\n",
    "\n",
    "                    contatos_endereco_texto_og = recuperando_string_print(0, 0, 1000, 1000)\n",
    "                    contatos = recuperando_contatos_cnpj_biz(contatos_endereco_texto_og)\n",
    "                    endereco = recuperando_endereco_cnpj_biz(contatos_endereco_texto_og)\n",
    "                    socios = recuperando_socios_cnpj_biz()\n",
    "                    print(\"Nome: \", nome_empresa)\n",
    "                    dados_novos = {\"Contatos\":contatos, \"Socios\": socios, \"Endereço\": endereco, \"CNPJ\": cnpj, \"Nome Fantasia\":nome_fantasia}\n",
    "                    pyautogui.click(1888, 18)\n",
    "                    return dados_novos\n",
    "                else:\n",
    "                    pyautogui.press(\"down\")\n",
    "            else:\n",
    "                pyautogui.press(\"down\")\n",
    "    else:\n",
    "        pyautogui.click(1888, 18)\n",
    "        return {\"error\": \"Nenhuma empresa encontrada\"}\n",
    "        \n",
    "\n",
    "\n",
    "    pyautogui.click(1888, 18)\n",
    "    return False\n",
    "    \n",
    "#cnpj_empresa = buscar_empresa_cnpjbiz(\"AM IMOVEIS CONSULTORIA LTDA\", \"8170\")"
   ]
  }
 ],
 "metadata": {
  "kernelspec": {
   "display_name": "pedroceglia",
   "language": "python",
   "name": "python3"
  },
  "language_info": {
   "codemirror_mode": {
    "name": "ipython",
    "version": 3
   },
   "file_extension": ".py",
   "mimetype": "text/x-python",
   "name": "python",
   "nbconvert_exporter": "python",
   "pygments_lexer": "ipython3",
   "version": "3.11.8"
  }
 },
 "nbformat": 4,
 "nbformat_minor": 2
}
